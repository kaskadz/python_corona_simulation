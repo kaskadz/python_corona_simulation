{
 "cells": [
  {
   "cell_type": "code",
   "execution_count": 44,
   "metadata": {},
   "outputs": [],
   "source": [
    "import pandas as pd\n",
    "import numpy as np\n",
    "from tqdm.notebook import trange, tqdm\n",
    "from itertools import islice, chain\n",
    "import hashlib\n",
    "import os\n",
    "import math\n",
    "from SALib.sample import saltelli\n",
    "from SALib.analyze import sobol\n",
    "from SALib.test_functions import Ishigami\n",
    "from SALib.sample import morris as ms\n",
    "from SALib.analyze import morris as ma\n",
    "from SALib.plotting import morris as mp\n",
    "from simulation import Simulation"
   ]
  },
  {
   "cell_type": "code",
   "execution_count": 2,
   "metadata": {},
   "outputs": [],
   "source": [
    "variables_all = {\n",
    "    'proportion_wearing_masks': (0.1, 0.95),\n",
    "    'test_proportion_to_start': (0.01, 0.1),\n",
    "    'self_isolate_proportion': (0.1, 0.95),\n",
    "    'min_tests_daily_proportion': (0.001, 0.01),\n",
    "    'max_tests_daily_proportion': (0.01, 0.1),\n",
    "    'desired_positive_proportion': (0.01, 0.5),\n",
    "    'healthcare_capacity': (50, 150),\n",
    "    'speed': (0.005, 0.04),\n",
    "}"
   ]
  },
  {
   "cell_type": "code",
   "execution_count": 3,
   "metadata": {},
   "outputs": [],
   "source": [
    "def build_problem(variables):\n",
    "    return {\n",
    "        'num_vars': len(variables),\n",
    "        'names': variables.keys(),\n",
    "        'bounds': [list(x) for x in variables.values()]\n",
    "    }"
   ]
  },
  {
   "cell_type": "code",
   "execution_count": 4,
   "metadata": {},
   "outputs": [],
   "source": [
    "def compute_row_hash(row):\n",
    "    return hashlib.sha1(np.array(row)).hexdigest()"
   ]
  },
  {
   "cell_type": "code",
   "execution_count": 5,
   "metadata": {},
   "outputs": [],
   "source": [
    "def generate_samples_df(variables, sampling_fun):\n",
    "    problem = build_problem(variables)\n",
    "    samples = sampling_fun(problem)\n",
    "    \n",
    "    df = pd.DataFrame(samples, columns=variables.keys())\n",
    "    \n",
    "    missing_cols = set(variables_all.keys()) - set(df.columns)\n",
    "    for m in missing_cols:\n",
    "        df[m] = \"\"\n",
    "    \n",
    "    df['hash'] = df.apply(compute_row_hash, axis=1)\n",
    "    df.set_index('hash', inplace=True)\n",
    "    return df"
   ]
  },
  {
   "cell_type": "code",
   "execution_count": 6,
   "metadata": {},
   "outputs": [],
   "source": [
    "def spit_params_dicts(samples_df):\n",
    "    for idx, row in df.iterrows():\n",
    "        params = dict(row)\n",
    "        params['run_id'] = idx\n",
    "        yield params"
   ]
  },
  {
   "cell_type": "code",
   "execution_count": 7,
   "metadata": {},
   "outputs": [],
   "source": [
    "paramsets_file = 'paramsets.csv'\n",
    "def load_paramsets_if_present():\n",
    "    return pd.read_csv(paramsets_file, index_col=0) if os.path.isfile(paramsets_file) else None"
   ]
  },
  {
   "cell_type": "code",
   "execution_count": 8,
   "metadata": {},
   "outputs": [],
   "source": [
    "def load_results_if_present(result_id):\n",
    "    result_file = f'results/r_{result_id}.csv'\n",
    "    return pd.read_csv(result_file, index_col=0) if os.path.isfile(result_file) else None"
   ]
  },
  {
   "cell_type": "code",
   "execution_count": 9,
   "metadata": {},
   "outputs": [],
   "source": [
    "def generate_persistent_samples(variables, sampling_fun):\n",
    "    df = generate_samples_df(variables, sampling_fun)\n",
    "    pdf = load_paramsets_if_present()\n",
    "    if pdf is None:\n",
    "        df.to_csv(paramsets_file)\n",
    "    else:\n",
    "        xdf = pdf.append(df)\n",
    "        udf = xdf.reset_index().drop_duplicates('hash').set_index('hash')\n",
    "        udf.to_csv(paramsets_file)\n",
    "    \n",
    "    return list(df.index)"
   ]
  },
  {
   "cell_type": "code",
   "execution_count": 10,
   "metadata": {},
   "outputs": [],
   "source": [
    "def select_variables(*names):\n",
    "    names = set(names)\n",
    "    if 'all' in names or len(names) == 0:\n",
    "        return variables_all\n",
    "    \n",
    "    return dict(filter(lambda x: x[0] in names, variables_all.items()))"
   ]
  },
  {
   "cell_type": "code",
   "execution_count": 16,
   "metadata": {},
   "outputs": [],
   "source": [
    "# def compute_sensitivity(variables, sampling_fun):\n",
    "#     setids = generate_persistent_samples(variables, sampling_fun)\n",
    "    \n",
    "#     paramsets = load_paramsets_if_present()\n",
    "#     assert paramsets is not None\n",
    "    \n",
    "#     for setid in tqdm(setids):\n",
    "#         results = load_results_if_present(setid)\n",
    "#         if results is None:\n",
    "#             param_dict = paramsets.loc[setid].dropna().to_dict()\n",
    "#             param_dict['quiet'] = True\n",
    "#             param_dict['visualize'] = False\n",
    "#             param_dict['verbose'] = False\n",
    "#             param_dict['print_sum'] = False\n",
    "#             param_dict['run_id'] = setid\n",
    "\n",
    "#             sim = Simulation(**param_dict)\n",
    "#             sim.run()\n",
    "            \n",
    "#             results = load_results_if_present(setid)\n",
    "#             assert results is not None"
   ]
  },
  {
   "cell_type": "code",
   "execution_count": 34,
   "metadata": {},
   "outputs": [],
   "source": [
    "def batches(iterable, n=1):\n",
    "    l = len(iterable)\n",
    "    for ndx in range(0, l, n):\n",
    "        yield iterable[ndx:min(ndx + n, l)]"
   ]
  },
  {
   "cell_type": "code",
   "execution_count": 52,
   "metadata": {},
   "outputs": [],
   "source": [
    "def generate_paramsets(variables, sampling_fun, batch_size=None, no_batches=None):\n",
    "    setids = generate_persistent_samples(variables, sampling_fun)\n",
    "    \n",
    "    if batch_size is None:\n",
    "        batch_size = int(math.ceil(len(setids) / no_batches))\n",
    "    \n",
    "    for i, b in enumerate(batches(setids, batch_size)):\n",
    "        print(f'---|{i}|-')\n",
    "        print(' '.join(b))\n",
    "    \n",
    "    return setids"
   ]
  },
  {
   "cell_type": "code",
   "execution_count": 53,
   "metadata": {},
   "outputs": [
    {
     "name": "stdout",
     "output_type": "stream",
     "text": [
      "---|0|-\n",
      "a92141d3cd2f5ee38e8e2fa1e5849420ac6cf7fd e02c4d13d64cdda9c08b29b7efb9e9277794641f 60e047e16bb7d3ad810160871f872097ecb67b28 61f961e0f783aa518c5b043c71f4e04d35a32298 38b44c89bbfaa5ede8d6af4d95384d14659b3b5c 3796515b5205ccb3b5fe8d1d7a34a59d4e918e13 467dcd108563bb286188f5c8ea825d62343980c0 bb361b804f1df4e74f5946fff75207308f588919 f112db8474d79d7f2a2331089331f898601ac388 0caf876de4262ddbcaef2fe967124873edeeeaa3 f779c44701960ae5879c2109811d6362a7893ba8 b9ba83e0360f6a663e75a431f112aa75842ad39c 8f214c5445e5347511363341ce2a456a74612d23 83b364a8e94f2c5cc3a493137cb60290d71fc34c 6d86ac165b9a5da18508639cb36af8e4492608b9 9964a9b3a240ee160b4a74ab5f7b9263f4c79bcf 435b8494c6d9f0c883c18fb64c385dde6206d125 b9e49eb3792e47cc466c1b06692f89e399b02f26\n",
      "---|1|-\n",
      "2751eefd6e6ffdbd3ece8e630c559adcc3d4d0bd ccb0e340de1c1bdb264cbfff55e73f55307b1b0e c4a5a972115ab03d28fdb0b89cfb70e245dd6ff6 3c04efe0696c73abd211e3fa89d19088f3537098 cc0c9f8cf6e69eac5ec3446ee9d53c5c1482dbac 3599b3cedb5db48b9b312e327d1f2c9dfdd7665b 56af0d0b454f8a5290c09bbcac69474a33a84698 4e0bef5c359ae6139c80d6aad5b83c9cf56a3e4f 97070a4ee2955c7e03c0ad1ce3d066da9f3ad0b8 ca36f084dbccd21feb6c93270d96f70d2452e57f 4d70916ea8dd9d04871b1de60f97f8d43fd25776 302f15370edc23e4226c0487fcf611f49367267c 69da0b86a08c26c3a3fb2dbfe31b20bb46500fc5 11f0b2077a4a01b3cb93cd51031ea850ce508874 a6dafe9a7a85578fdb7c4c8a9d8a7e7110f77618 1f96b2cfa01b2a618e16120e13b01233a34c17c3 e5ba360ed07f8c03dc2c761ba122192012bc9a74 6d6f598919e3b80f698d516e04e28c5fbb6a491c\n"
     ]
    }
   ],
   "source": [
    "exp1 = generate_paramsets(select_variables('all'), lambda x: ms.sample(x, 100, num_levels=2, optimal_trajectories=4, seed=1234), no_batches=2)"
   ]
  },
  {
   "cell_type": "code",
   "execution_count": 78,
   "metadata": {},
   "outputs": [],
   "source": [
    "def compute_metrics(exp):\n",
    "    metrics = []\n",
    "    for rid in exp1:\n",
    "        rdf = load_results_if_present(rid)\n",
    "        fatalities = rdf['fatalities'].iloc[-1]\n",
    "        unaffected = rdf['susceptible'].iloc[-1]\n",
    "        sev3 = rdf['severity2'].iloc[-1]\n",
    "        metrics.append((fatalities, unaffected, sev3))\n",
    "    return np.array(metrics, dtype=np.float64)"
   ]
  },
  {
   "cell_type": "code",
   "execution_count": 79,
   "metadata": {},
   "outputs": [],
   "source": [
    "pdf = load_paramsets_if_present()"
   ]
  },
  {
   "cell_type": "code",
   "execution_count": 80,
   "metadata": {},
   "outputs": [],
   "source": [
    "metrics1 = compute_metrics(exp1)"
   ]
  },
  {
   "cell_type": "code",
   "execution_count": 81,
   "metadata": {},
   "outputs": [],
   "source": [
    "sample1 =  np.array([np.array(x) for i, x in pdf.loc[exp1].iterrows()])"
   ]
  },
  {
   "cell_type": "code",
   "execution_count": 82,
   "metadata": {},
   "outputs": [
    {
     "ename": "ValueError",
     "evalue": "cannot reshape array of size 108 into shape (4,9)",
     "output_type": "error",
     "traceback": [
      "\u001b[1;31m---------------------------------------------------------------------------\u001b[0m",
      "\u001b[1;31mValueError\u001b[0m                                Traceback (most recent call last)",
      "\u001b[1;32m<ipython-input-82-b32c75f56838>\u001b[0m in \u001b[0;36m<module>\u001b[1;34m\u001b[0m\n\u001b[1;32m----> 1\u001b[1;33m \u001b[0mma\u001b[0m\u001b[1;33m.\u001b[0m\u001b[0manalyze\u001b[0m\u001b[1;33m(\u001b[0m\u001b[0mbuild_problem\u001b[0m\u001b[1;33m(\u001b[0m\u001b[0mselect_variables\u001b[0m\u001b[1;33m(\u001b[0m\u001b[1;34m'all'\u001b[0m\u001b[1;33m)\u001b[0m\u001b[1;33m)\u001b[0m\u001b[1;33m,\u001b[0m \u001b[0msample1\u001b[0m\u001b[1;33m,\u001b[0m \u001b[0mmetrics1\u001b[0m\u001b[1;33m,\u001b[0m \u001b[0mnum_levels\u001b[0m\u001b[1;33m=\u001b[0m\u001b[1;36m2\u001b[0m\u001b[1;33m)\u001b[0m\u001b[1;33m\u001b[0m\u001b[1;33m\u001b[0m\u001b[0m\n\u001b[0m",
      "\u001b[1;32ms:\\program files\\python37\\lib\\site-packages\\SALib\\analyze\\morris.py\u001b[0m in \u001b[0;36manalyze\u001b[1;34m(problem, X, Y, num_resamples, conf_level, print_to_console, num_levels, seed)\u001b[0m\n\u001b[0;32m     99\u001b[0m     \u001b[0mee\u001b[0m \u001b[1;33m=\u001b[0m \u001b[0mnp\u001b[0m\u001b[1;33m.\u001b[0m\u001b[0mzeros\u001b[0m\u001b[1;33m(\u001b[0m\u001b[1;33m(\u001b[0m\u001b[0mnum_vars\u001b[0m\u001b[1;33m,\u001b[0m \u001b[0mnum_trajectories\u001b[0m\u001b[1;33m)\u001b[0m\u001b[1;33m)\u001b[0m\u001b[1;33m\u001b[0m\u001b[1;33m\u001b[0m\u001b[0m\n\u001b[0;32m    100\u001b[0m     ee = compute_elementary_effects(\n\u001b[1;32m--> 101\u001b[1;33m         X, Y, int(Y.size / num_trajectories), delta)\n\u001b[0m\u001b[0;32m    102\u001b[0m \u001b[1;33m\u001b[0m\u001b[0m\n\u001b[0;32m    103\u001b[0m     \u001b[1;31m# Output the Mu, Mu*, and Sigma Values. Also return them in case this is\u001b[0m\u001b[1;33m\u001b[0m\u001b[1;33m\u001b[0m\u001b[1;33m\u001b[0m\u001b[0m\n",
      "\u001b[1;32ms:\\program files\\python37\\lib\\site-packages\\SALib\\analyze\\morris.py\u001b[0m in \u001b[0;36mcompute_elementary_effects\u001b[1;34m(model_inputs, model_outputs, trajectory_size, delta)\u001b[0m\n\u001b[0;32m    253\u001b[0m     \u001b[0mlo\u001b[0m \u001b[1;33m=\u001b[0m \u001b[1;33m(\u001b[0m\u001b[0mip_cha\u001b[0m \u001b[1;33m<\u001b[0m \u001b[1;36m0\u001b[0m\u001b[1;33m)\u001b[0m\u001b[1;33m\u001b[0m\u001b[1;33m\u001b[0m\u001b[0m\n\u001b[0;32m    254\u001b[0m \u001b[1;33m\u001b[0m\u001b[0m\n\u001b[1;32m--> 255\u001b[1;33m     \u001b[0mop_vec\u001b[0m \u001b[1;33m=\u001b[0m \u001b[0mmodel_outputs\u001b[0m\u001b[1;33m.\u001b[0m\u001b[0mreshape\u001b[0m\u001b[1;33m(\u001b[0m\u001b[0mnum_trajectories\u001b[0m\u001b[1;33m,\u001b[0m \u001b[0mtrajectory_size\u001b[0m\u001b[1;33m)\u001b[0m\u001b[1;33m\u001b[0m\u001b[1;33m\u001b[0m\u001b[0m\n\u001b[0m\u001b[0;32m    256\u001b[0m \u001b[1;33m\u001b[0m\u001b[0m\n\u001b[0;32m    257\u001b[0m     \u001b[0mresult_up\u001b[0m \u001b[1;33m=\u001b[0m \u001b[0mget_increased_values\u001b[0m\u001b[1;33m(\u001b[0m\u001b[0mop_vec\u001b[0m\u001b[1;33m,\u001b[0m \u001b[0mup\u001b[0m\u001b[1;33m,\u001b[0m \u001b[0mlo\u001b[0m\u001b[1;33m)\u001b[0m\u001b[1;33m\u001b[0m\u001b[1;33m\u001b[0m\u001b[0m\n",
      "\u001b[1;31mValueError\u001b[0m: cannot reshape array of size 108 into shape (4,9)"
     ]
    }
   ],
   "source": [
    "ma.analyze(build_problem(select_variables('all')), sample1, metrics1, num_levels=2)"
   ]
  }
 ],
 "metadata": {
  "kernelspec": {
   "display_name": "Python 3",
   "language": "python",
   "name": "python3"
  },
  "language_info": {
   "codemirror_mode": {
    "name": "ipython",
    "version": 3
   },
   "file_extension": ".py",
   "mimetype": "text/x-python",
   "name": "python",
   "nbconvert_exporter": "python",
   "pygments_lexer": "ipython3",
   "version": "3.7.9"
  }
 },
 "nbformat": 4,
 "nbformat_minor": 4
}
