{
 "cells": [
  {
   "cell_type": "code",
   "execution_count": 11,
   "metadata": {},
   "outputs": [],
   "source": [
    "%matplotlib inline"
   ]
  },
  {
   "cell_type": "code",
   "execution_count": 23,
   "metadata": {},
   "outputs": [],
   "source": [
    "import pandas as pd\n",
    "from matplotlib import pyplot as plt\n",
    "\n",
    "plt.rcParams[\"figure.figsize\"] = (14, 8)"
   ]
  },
  {
   "cell_type": "code",
   "execution_count": 17,
   "metadata": {},
   "outputs": [],
   "source": [
    "def get_prefixed_filename(prefix, filename):\n",
    "    return filename if prefix is None else f'{prefix}_{filename}'\n",
    "\n",
    "def load_simulation_results(name=None):\n",
    "    filename = get_prefixed_filename(name, 'results.csv')\n",
    "    return pd.read_csv(filename)\n",
    "\n",
    "def load_sensitivity_results(variable, name=None):\n",
    "    filename = get_prefixed_filename(name, f'{variable}_results.csv')\n",
    "    return pd.read_csv(filename).set_index('parameter')"
   ]
  },
  {
   "cell_type": "code",
   "execution_count": 18,
   "metadata": {},
   "outputs": [],
   "source": [
    "def barplot(sensitivity_df):\n",
    "    CONF_COLUMN = '_conf'\n",
    "    conf_cols = sensitivity_df.columns.str.contains(CONF_COLUMN)\n",
    "\n",
    "    confs = sensitivity_df.loc[:, conf_cols]\n",
    "    confs.columns = [c.replace(CONF_COLUMN, '') for c in confs.columns]\n",
    "\n",
    "    df = sensitivity_df.loc[:, ~conf_cols]\n",
    "\n",
    "    df.plot(kind='bar', yerr=confs, grid=True)"
   ]
  },
  {
   "cell_type": "code",
   "execution_count": 19,
   "metadata": {},
   "outputs": [
    {
     "data": {
      "text/html": [
       "<div>\n",
       "<style scoped>\n",
       "    .dataframe tbody tr th:only-of-type {\n",
       "        vertical-align: middle;\n",
       "    }\n",
       "\n",
       "    .dataframe tbody tr th {\n",
       "        vertical-align: top;\n",
       "    }\n",
       "\n",
       "    .dataframe thead th {\n",
       "        text-align: right;\n",
       "    }\n",
       "</style>\n",
       "<table border=\"1\" class=\"dataframe\">\n",
       "  <thead>\n",
       "    <tr style=\"text-align: right;\">\n",
       "      <th></th>\n",
       "      <th>ST</th>\n",
       "      <th>ST_conf</th>\n",
       "      <th>S1</th>\n",
       "      <th>S1_conf</th>\n",
       "    </tr>\n",
       "    <tr>\n",
       "      <th>parameter</th>\n",
       "      <th></th>\n",
       "      <th></th>\n",
       "      <th></th>\n",
       "      <th></th>\n",
       "    </tr>\n",
       "  </thead>\n",
       "  <tbody>\n",
       "    <tr>\n",
       "      <th>mean_age</th>\n",
       "      <td>1.081913</td>\n",
       "      <td>1.109483</td>\n",
       "      <td>2.009341</td>\n",
       "      <td>2.390899</td>\n",
       "    </tr>\n",
       "    <tr>\n",
       "      <th>risk_age</th>\n",
       "      <td>0.010001</td>\n",
       "      <td>1.443765</td>\n",
       "      <td>0.029701</td>\n",
       "      <td>1.936327</td>\n",
       "    </tr>\n",
       "  </tbody>\n",
       "</table>\n",
       "</div>"
      ],
      "text/plain": [
       "                 ST   ST_conf        S1   S1_conf\n",
       "parameter                                        \n",
       "mean_age   1.081913  1.109483  2.009341  2.390899\n",
       "risk_age   0.010001  1.443765  0.029701  1.936327"
      ]
     },
     "execution_count": 19,
     "metadata": {},
     "output_type": "execute_result"
    }
   ],
   "source": [
    "sdf1 = load_sensitivity_results('recovered')\n",
    "sdf1"
   ]
  },
  {
   "cell_type": "code",
   "execution_count": 43,
   "metadata": {},
   "outputs": [],
   "source": [
    "rdfa1 = load_simulation_results(name='a2')\n",
    "sdfa1_dead = load_sensitivity_results(name='a2', variable='dead')\n",
    "sdfa1_unaf = load_sensitivity_results(name='a2', variable='unaffected')\n",
    "sdfa1_reco = load_sensitivity_results(name='a2', variable='recovered')\n",
    "sdfa1_time = load_sensitivity_results(name='a2', variable='timesteps')"
   ]
  },
  {
   "cell_type": "code",
   "execution_count": 44,
   "metadata": {},
   "outputs": [
    {
     "data": {
      "text/html": [
       "<div>\n",
       "<style scoped>\n",
       "    .dataframe tbody tr th:only-of-type {\n",
       "        vertical-align: middle;\n",
       "    }\n",
       "\n",
       "    .dataframe tbody tr th {\n",
       "        vertical-align: top;\n",
       "    }\n",
       "\n",
       "    .dataframe thead th {\n",
       "        text-align: right;\n",
       "    }\n",
       "</style>\n",
       "<table border=\"1\" class=\"dataframe\">\n",
       "  <thead>\n",
       "    <tr style=\"text-align: right;\">\n",
       "      <th></th>\n",
       "      <th>p_mean_age</th>\n",
       "      <th>p_max_age</th>\n",
       "      <th>p_proportion_wearing_masks</th>\n",
       "      <th>p_healthcare_capacity</th>\n",
       "      <th>p_self_isolate_proportion</th>\n",
       "      <th>p_lockdown</th>\n",
       "      <th>p_lockdown_percentage</th>\n",
       "      <th>p_lockdown_compliance</th>\n",
       "      <th>r_timesteps</th>\n",
       "      <th>r_dead</th>\n",
       "      <th>r_recovered</th>\n",
       "      <th>r_infected</th>\n",
       "      <th>r_infectious</th>\n",
       "      <th>r_unaffected</th>\n",
       "    </tr>\n",
       "  </thead>\n",
       "  <tbody>\n",
       "    <tr>\n",
       "      <th>0</th>\n",
       "      <td>34.394531</td>\n",
       "      <td>55.800781</td>\n",
       "      <td>0.518555</td>\n",
       "      <td>169.189453</td>\n",
       "      <td>0.280273</td>\n",
       "      <td>True</td>\n",
       "      <td>0.027720</td>\n",
       "      <td>89.991699</td>\n",
       "      <td>2286</td>\n",
       "      <td>12</td>\n",
       "      <td>436</td>\n",
       "      <td>0</td>\n",
       "      <td>0</td>\n",
       "      <td>52</td>\n",
       "    </tr>\n",
       "    <tr>\n",
       "      <th>1</th>\n",
       "      <td>40.019531</td>\n",
       "      <td>55.800781</td>\n",
       "      <td>0.518555</td>\n",
       "      <td>169.189453</td>\n",
       "      <td>0.280273</td>\n",
       "      <td>True</td>\n",
       "      <td>0.027720</td>\n",
       "      <td>89.991699</td>\n",
       "      <td>2312</td>\n",
       "      <td>15</td>\n",
       "      <td>416</td>\n",
       "      <td>0</td>\n",
       "      <td>0</td>\n",
       "      <td>69</td>\n",
       "    </tr>\n",
       "    <tr>\n",
       "      <th>2</th>\n",
       "      <td>34.394531</td>\n",
       "      <td>54.160156</td>\n",
       "      <td>0.518555</td>\n",
       "      <td>169.189453</td>\n",
       "      <td>0.280273</td>\n",
       "      <td>True</td>\n",
       "      <td>0.027720</td>\n",
       "      <td>89.991699</td>\n",
       "      <td>1386</td>\n",
       "      <td>19</td>\n",
       "      <td>477</td>\n",
       "      <td>0</td>\n",
       "      <td>0</td>\n",
       "      <td>4</td>\n",
       "    </tr>\n",
       "    <tr>\n",
       "      <th>3</th>\n",
       "      <td>34.394531</td>\n",
       "      <td>55.800781</td>\n",
       "      <td>0.084961</td>\n",
       "      <td>169.189453</td>\n",
       "      <td>0.280273</td>\n",
       "      <td>True</td>\n",
       "      <td>0.027720</td>\n",
       "      <td>89.991699</td>\n",
       "      <td>1926</td>\n",
       "      <td>7</td>\n",
       "      <td>455</td>\n",
       "      <td>0</td>\n",
       "      <td>0</td>\n",
       "      <td>38</td>\n",
       "    </tr>\n",
       "    <tr>\n",
       "      <th>4</th>\n",
       "      <td>34.394531</td>\n",
       "      <td>55.800781</td>\n",
       "      <td>0.518555</td>\n",
       "      <td>63.720703</td>\n",
       "      <td>0.280273</td>\n",
       "      <td>True</td>\n",
       "      <td>0.027720</td>\n",
       "      <td>89.991699</td>\n",
       "      <td>2427</td>\n",
       "      <td>14</td>\n",
       "      <td>423</td>\n",
       "      <td>0</td>\n",
       "      <td>0</td>\n",
       "      <td>63</td>\n",
       "    </tr>\n",
       "    <tr>\n",
       "      <th>...</th>\n",
       "      <td>...</td>\n",
       "      <td>...</td>\n",
       "      <td>...</td>\n",
       "      <td>...</td>\n",
       "      <td>...</td>\n",
       "      <td>...</td>\n",
       "      <td>...</td>\n",
       "      <td>...</td>\n",
       "      <td>...</td>\n",
       "      <td>...</td>\n",
       "      <td>...</td>\n",
       "      <td>...</td>\n",
       "      <td>...</td>\n",
       "      <td>...</td>\n",
       "    </tr>\n",
       "    <tr>\n",
       "      <th>995</th>\n",
       "      <td>39.248047</td>\n",
       "      <td>85.244141</td>\n",
       "      <td>0.564941</td>\n",
       "      <td>26.000977</td>\n",
       "      <td>0.917480</td>\n",
       "      <td>True</td>\n",
       "      <td>0.082102</td>\n",
       "      <td>6.864502</td>\n",
       "      <td>2235</td>\n",
       "      <td>13</td>\n",
       "      <td>451</td>\n",
       "      <td>0</td>\n",
       "      <td>0</td>\n",
       "      <td>36</td>\n",
       "    </tr>\n",
       "    <tr>\n",
       "      <th>996</th>\n",
       "      <td>39.248047</td>\n",
       "      <td>85.244141</td>\n",
       "      <td>0.564941</td>\n",
       "      <td>26.000977</td>\n",
       "      <td>0.971191</td>\n",
       "      <td>True</td>\n",
       "      <td>0.082102</td>\n",
       "      <td>6.864502</td>\n",
       "      <td>2598</td>\n",
       "      <td>16</td>\n",
       "      <td>446</td>\n",
       "      <td>0</td>\n",
       "      <td>0</td>\n",
       "      <td>38</td>\n",
       "    </tr>\n",
       "    <tr>\n",
       "      <th>997</th>\n",
       "      <td>39.248047</td>\n",
       "      <td>85.244141</td>\n",
       "      <td>0.564941</td>\n",
       "      <td>26.000977</td>\n",
       "      <td>0.971191</td>\n",
       "      <td>True</td>\n",
       "      <td>0.252258</td>\n",
       "      <td>6.864502</td>\n",
       "      <td>2074</td>\n",
       "      <td>12</td>\n",
       "      <td>453</td>\n",
       "      <td>0</td>\n",
       "      <td>0</td>\n",
       "      <td>35</td>\n",
       "    </tr>\n",
       "    <tr>\n",
       "      <th>998</th>\n",
       "      <td>39.248047</td>\n",
       "      <td>85.244141</td>\n",
       "      <td>0.564941</td>\n",
       "      <td>26.000977</td>\n",
       "      <td>0.971191</td>\n",
       "      <td>True</td>\n",
       "      <td>0.082102</td>\n",
       "      <td>41.456299</td>\n",
       "      <td>2242</td>\n",
       "      <td>17</td>\n",
       "      <td>447</td>\n",
       "      <td>0</td>\n",
       "      <td>0</td>\n",
       "      <td>36</td>\n",
       "    </tr>\n",
       "    <tr>\n",
       "      <th>999</th>\n",
       "      <td>44.716797</td>\n",
       "      <td>88.876953</td>\n",
       "      <td>0.813965</td>\n",
       "      <td>126.831055</td>\n",
       "      <td>0.917480</td>\n",
       "      <td>True</td>\n",
       "      <td>0.252258</td>\n",
       "      <td>41.456299</td>\n",
       "      <td>1842</td>\n",
       "      <td>9</td>\n",
       "      <td>467</td>\n",
       "      <td>0</td>\n",
       "      <td>0</td>\n",
       "      <td>24</td>\n",
       "    </tr>\n",
       "  </tbody>\n",
       "</table>\n",
       "<p>1000 rows × 14 columns</p>\n",
       "</div>"
      ],
      "text/plain": [
       "     p_mean_age  p_max_age  p_proportion_wearing_masks  p_healthcare_capacity  \\\n",
       "0     34.394531  55.800781                    0.518555             169.189453   \n",
       "1     40.019531  55.800781                    0.518555             169.189453   \n",
       "2     34.394531  54.160156                    0.518555             169.189453   \n",
       "3     34.394531  55.800781                    0.084961             169.189453   \n",
       "4     34.394531  55.800781                    0.518555              63.720703   \n",
       "..          ...        ...                         ...                    ...   \n",
       "995   39.248047  85.244141                    0.564941              26.000977   \n",
       "996   39.248047  85.244141                    0.564941              26.000977   \n",
       "997   39.248047  85.244141                    0.564941              26.000977   \n",
       "998   39.248047  85.244141                    0.564941              26.000977   \n",
       "999   44.716797  88.876953                    0.813965             126.831055   \n",
       "\n",
       "     p_self_isolate_proportion  p_lockdown  p_lockdown_percentage  \\\n",
       "0                     0.280273        True               0.027720   \n",
       "1                     0.280273        True               0.027720   \n",
       "2                     0.280273        True               0.027720   \n",
       "3                     0.280273        True               0.027720   \n",
       "4                     0.280273        True               0.027720   \n",
       "..                         ...         ...                    ...   \n",
       "995                   0.917480        True               0.082102   \n",
       "996                   0.971191        True               0.082102   \n",
       "997                   0.971191        True               0.252258   \n",
       "998                   0.971191        True               0.082102   \n",
       "999                   0.917480        True               0.252258   \n",
       "\n",
       "     p_lockdown_compliance  r_timesteps  r_dead  r_recovered  r_infected  \\\n",
       "0                89.991699         2286      12          436           0   \n",
       "1                89.991699         2312      15          416           0   \n",
       "2                89.991699         1386      19          477           0   \n",
       "3                89.991699         1926       7          455           0   \n",
       "4                89.991699         2427      14          423           0   \n",
       "..                     ...          ...     ...          ...         ...   \n",
       "995               6.864502         2235      13          451           0   \n",
       "996               6.864502         2598      16          446           0   \n",
       "997               6.864502         2074      12          453           0   \n",
       "998              41.456299         2242      17          447           0   \n",
       "999              41.456299         1842       9          467           0   \n",
       "\n",
       "     r_infectious  r_unaffected  \n",
       "0               0            52  \n",
       "1               0            69  \n",
       "2               0             4  \n",
       "3               0            38  \n",
       "4               0            63  \n",
       "..            ...           ...  \n",
       "995             0            36  \n",
       "996             0            38  \n",
       "997             0            35  \n",
       "998             0            36  \n",
       "999             0            24  \n",
       "\n",
       "[1000 rows x 14 columns]"
      ]
     },
     "execution_count": 44,
     "metadata": {},
     "output_type": "execute_result"
    }
   ],
   "source": [
    "rdfa1"
   ]
  },
  {
   "cell_type": "code",
   "execution_count": 45,
   "metadata": {},
   "outputs": [
    {
     "data": {
      "image/png": "[encoded data removed]",
      "text/plain": [
       "<Figure size 1008x576 with 1 Axes>"
      ]
     },
     "metadata": {
      "needs_background": "light"
     },
     "output_type": "display_data"
    }
   ],
   "source": [
    "barplot(sdfa1_dead)"
   ]
  },
  {
   "cell_type": "code",
   "execution_count": 46,
   "metadata": {},
   "outputs": [
    {
     "data": {
      "image/png": "[encoded data removed]",
      "text/plain": [
       "<Figure size 1008x576 with 1 Axes>"
      ]
     },
     "metadata": {
      "needs_background": "light"
     },
     "output_type": "display_data"
    }
   ],
   "source": [
    "barplot(sdfa1_unaf)"
   ]
  },
  {
   "cell_type": "code",
   "execution_count": 47,
   "metadata": {},
   "outputs": [
    {
     "data": {
      "image/png": "[encoded data removed]",
      "text/plain": [
       "<Figure size 1008x576 with 1 Axes>"
      ]
     },
     "metadata": {
      "needs_background": "light"
     },
     "output_type": "display_data"
    }
   ],
   "source": [
    "barplot(sdfa1_reco)"
   ]
  },
  {
   "cell_type": "code",
   "execution_count": 48,
   "metadata": {},
   "outputs": [
    {
     "data": {
      "image/png": "[encoded data removed]",
      "text/plain": [
       "<Figure size 1008x576 with 1 Axes>"
      ]
     },
     "metadata": {
      "needs_background": "light"
     },
     "output_type": "display_data"
    }
   ],
   "source": [
    "barplot(sdfa1_time)"
   ]
  }
 ],
 "metadata": {
  "kernelspec": {
   "display_name": "Python 3",
   "language": "python",
   "name": "python3"
  },
  "language_info": {
   "codemirror_mode": {
    "name": "ipython",
    "version": 3
   },
   "file_extension": ".py",
   "mimetype": "text/x-python",
   "name": "python",
   "nbconvert_exporter": "python",
   "pygments_lexer": "ipython3",
   "version": "3.7.9"
  }
 },
 "nbformat": 4,
 "nbformat_minor": 4
}
