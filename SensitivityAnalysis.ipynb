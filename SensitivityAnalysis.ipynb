{
 "cells": [
  {
   "cell_type": "code",
   "execution_count": 1,
   "metadata": {},
   "outputs": [],
   "source": [
    "import pandas as pd\n",
    "import numpy as np\n",
    "from tqdm.notebook import trange, tqdm\n",
    "from itertools import islice, chain\n",
    "from collections import defaultdict\n",
    "import hashlib\n",
    "import os\n",
    "import math\n",
    "from SALib.sample import saltelli\n",
    "from SALib.analyze import sobol\n",
    "from SALib.test_functions import Ishigami\n",
    "from SALib.sample import morris as ms\n",
    "from SALib.analyze import morris as ma\n",
    "from SALib.plotting import morris as mp\n",
    "from simulation import Simulation\n",
    "import ipyparallel as ipp\n",
    "import ipywidgets\n",
    "import time"
   ]
  },
  {
   "cell_type": "code",
   "execution_count": 2,
   "metadata": {},
   "outputs": [],
   "source": [
    "variables_all = {\n",
    "    'min_tests_daily_proportion': (0.001, 0.01),\n",
    "    'max_tests_daily_proportion': (0.02, 0.1),\n",
    "    'desired_positive_proportion': (0.01, 0.5),\n",
    "}\n",
    "\n",
    "problem = {\n",
    "    'num_vars': len(variables_all),\n",
    "    'names': variables_all.keys(),\n",
    "    'bounds': [list(x) for x in variables_all.values()]\n",
    "}\n",
    "\n",
    "samples = None"
   ]
  },
  {
   "cell_type": "code",
   "execution_count": 3,
   "metadata": {},
   "outputs": [],
   "source": [
    "def compute_row_hash(row):\n",
    "    return hashlib.sha1(np.array(row)).hexdigest()\n",
    "\n",
    "def generate_samples_df(variables, sampling_fun):\n",
    "    samples = sampling_fun(problem)\n",
    "    \n",
    "    df = pd.DataFrame(samples, columns=variables.keys())\n",
    "    \n",
    "    df['hash'] = df.apply(compute_row_hash, axis=1)\n",
    "    df.set_index('hash', inplace=True)\n",
    "    return df\n",
    "\n",
    "def spit_params_dicts(samples_df):\n",
    "    for idx, row in df.iterrows():\n",
    "        params = dict(row)\n",
    "        params['run_id'] = idx\n",
    "        yield params"
   ]
  },
  {
   "cell_type": "code",
   "execution_count": 4,
   "metadata": {},
   "outputs": [],
   "source": [
    "def load_results_if_present(result_id):\n",
    "    result_file = f'results/r_{result_id}.csv'\n",
    "    return pd.read_csv(result_file, index_col=0) if os.path.isfile(result_file) else None"
   ]
  },
  {
   "cell_type": "code",
   "execution_count": 5,
   "metadata": {},
   "outputs": [
    {
     "data": {
      "text/html": [
       "<div>\n",
       "<style scoped>\n",
       "    .dataframe tbody tr th:only-of-type {\n",
       "        vertical-align: middle;\n",
       "    }\n",
       "\n",
       "    .dataframe tbody tr th {\n",
       "        vertical-align: top;\n",
       "    }\n",
       "\n",
       "    .dataframe thead th {\n",
       "        text-align: right;\n",
       "    }\n",
       "</style>\n",
       "<table border=\"1\" class=\"dataframe\">\n",
       "  <thead>\n",
       "    <tr style=\"text-align: right;\">\n",
       "      <th></th>\n",
       "      <th>min_tests_daily_proportion</th>\n",
       "      <th>max_tests_daily_proportion</th>\n",
       "      <th>desired_positive_proportion</th>\n",
       "    </tr>\n",
       "    <tr>\n",
       "      <th>hash</th>\n",
       "      <th></th>\n",
       "      <th></th>\n",
       "      <th></th>\n",
       "    </tr>\n",
       "  </thead>\n",
       "  <tbody>\n",
       "    <tr>\n",
       "      <th>391599cb126342b2118da600ab2bd21943269728</th>\n",
       "      <td>0.010</td>\n",
       "      <td>0.100000</td>\n",
       "      <td>0.500000</td>\n",
       "    </tr>\n",
       "    <tr>\n",
       "      <th>bb940f32474486292190a20bcebb862b2eda6a2e</th>\n",
       "      <td>0.004</td>\n",
       "      <td>0.100000</td>\n",
       "      <td>0.500000</td>\n",
       "    </tr>\n",
       "    <tr>\n",
       "      <th>0ea26d6f201c03c401a4248fb8a5300e45e066e8</th>\n",
       "      <td>0.004</td>\n",
       "      <td>0.046667</td>\n",
       "      <td>0.500000</td>\n",
       "    </tr>\n",
       "    <tr>\n",
       "      <th>7bcfc1ef2e2db066e8151beab503bcb05c162702</th>\n",
       "      <td>0.004</td>\n",
       "      <td>0.046667</td>\n",
       "      <td>0.173333</td>\n",
       "    </tr>\n",
       "    <tr>\n",
       "      <th>f6e3cee02eaeb4de00689579e57582a7a78fd0e5</th>\n",
       "      <td>0.007</td>\n",
       "      <td>0.020000</td>\n",
       "      <td>0.336667</td>\n",
       "    </tr>\n",
       "    <tr>\n",
       "      <th>...</th>\n",
       "      <td>...</td>\n",
       "      <td>...</td>\n",
       "      <td>...</td>\n",
       "    </tr>\n",
       "    <tr>\n",
       "      <th>0c35bdc81feeeff74e8d95bff4b62d5c42bcf863</th>\n",
       "      <td>0.007</td>\n",
       "      <td>0.046667</td>\n",
       "      <td>0.010000</td>\n",
       "    </tr>\n",
       "    <tr>\n",
       "      <th>3a9a03797181f816c444d36e4d93187fead8f60f</th>\n",
       "      <td>0.010</td>\n",
       "      <td>0.100000</td>\n",
       "      <td>0.010000</td>\n",
       "    </tr>\n",
       "    <tr>\n",
       "      <th>d314b66a89bea3d2d11876288866db7e396cf3b8</th>\n",
       "      <td>0.010</td>\n",
       "      <td>0.046667</td>\n",
       "      <td>0.010000</td>\n",
       "    </tr>\n",
       "    <tr>\n",
       "      <th>40448060353f68b3ea845b9594edbf457280cb2c</th>\n",
       "      <td>0.004</td>\n",
       "      <td>0.046667</td>\n",
       "      <td>0.010000</td>\n",
       "    </tr>\n",
       "    <tr>\n",
       "      <th>9c3284fa14f26097f94391b152d4d42b9e524e7c</th>\n",
       "      <td>0.004</td>\n",
       "      <td>0.046667</td>\n",
       "      <td>0.336667</td>\n",
       "    </tr>\n",
       "  </tbody>\n",
       "</table>\n",
       "<p>4000 rows × 3 columns</p>\n",
       "</div>"
      ],
      "text/plain": [
       "                                          min_tests_daily_proportion  \\\n",
       "hash                                                                   \n",
       "391599cb126342b2118da600ab2bd21943269728                       0.010   \n",
       "bb940f32474486292190a20bcebb862b2eda6a2e                       0.004   \n",
       "0ea26d6f201c03c401a4248fb8a5300e45e066e8                       0.004   \n",
       "7bcfc1ef2e2db066e8151beab503bcb05c162702                       0.004   \n",
       "f6e3cee02eaeb4de00689579e57582a7a78fd0e5                       0.007   \n",
       "...                                                              ...   \n",
       "0c35bdc81feeeff74e8d95bff4b62d5c42bcf863                       0.007   \n",
       "3a9a03797181f816c444d36e4d93187fead8f60f                       0.010   \n",
       "d314b66a89bea3d2d11876288866db7e396cf3b8                       0.010   \n",
       "40448060353f68b3ea845b9594edbf457280cb2c                       0.004   \n",
       "9c3284fa14f26097f94391b152d4d42b9e524e7c                       0.004   \n",
       "\n",
       "                                          max_tests_daily_proportion  \\\n",
       "hash                                                                   \n",
       "391599cb126342b2118da600ab2bd21943269728                    0.100000   \n",
       "bb940f32474486292190a20bcebb862b2eda6a2e                    0.100000   \n",
       "0ea26d6f201c03c401a4248fb8a5300e45e066e8                    0.046667   \n",
       "7bcfc1ef2e2db066e8151beab503bcb05c162702                    0.046667   \n",
       "f6e3cee02eaeb4de00689579e57582a7a78fd0e5                    0.020000   \n",
       "...                                                              ...   \n",
       "0c35bdc81feeeff74e8d95bff4b62d5c42bcf863                    0.046667   \n",
       "3a9a03797181f816c444d36e4d93187fead8f60f                    0.100000   \n",
       "d314b66a89bea3d2d11876288866db7e396cf3b8                    0.046667   \n",
       "40448060353f68b3ea845b9594edbf457280cb2c                    0.046667   \n",
       "9c3284fa14f26097f94391b152d4d42b9e524e7c                    0.046667   \n",
       "\n",
       "                                          desired_positive_proportion  \n",
       "hash                                                                   \n",
       "391599cb126342b2118da600ab2bd21943269728                     0.500000  \n",
       "bb940f32474486292190a20bcebb862b2eda6a2e                     0.500000  \n",
       "0ea26d6f201c03c401a4248fb8a5300e45e066e8                     0.500000  \n",
       "7bcfc1ef2e2db066e8151beab503bcb05c162702                     0.173333  \n",
       "f6e3cee02eaeb4de00689579e57582a7a78fd0e5                     0.336667  \n",
       "...                                                               ...  \n",
       "0c35bdc81feeeff74e8d95bff4b62d5c42bcf863                     0.010000  \n",
       "3a9a03797181f816c444d36e4d93187fead8f60f                     0.010000  \n",
       "d314b66a89bea3d2d11876288866db7e396cf3b8                     0.010000  \n",
       "40448060353f68b3ea845b9594edbf457280cb2c                     0.010000  \n",
       "9c3284fa14f26097f94391b152d4d42b9e524e7c                     0.336667  \n",
       "\n",
       "[4000 rows x 3 columns]"
      ]
     },
     "execution_count": 5,
     "metadata": {},
     "output_type": "execute_result"
    }
   ],
   "source": [
    "pdf = generate_samples_df(variables_all, lambda x: ms.sample(x, 1000, seed=1234))\n",
    "pdf"
   ]
  },
  {
   "cell_type": "code",
   "execution_count": 137,
   "metadata": {},
   "outputs": [],
   "source": [
    "def progress_bar(ar):\n",
    "    # We create a progress bar.\n",
    "    w = ipywidgets.IntProgress()\n",
    "    # The maximum value is the number of tasks.\n",
    "    w.max = len(ar.msg_ids)\n",
    "    # We display the widget in the output area.\n",
    "    display(w)\n",
    "    # Repeat:\n",
    "    while not ar.ready():\n",
    "        # Update the widget's value with the\n",
    "        # number of tasks that have finished\n",
    "        # so far.\n",
    "        w.value = ar.progress\n",
    "        time.sleep(.1)\n",
    "    w.value = w.max"
   ]
  },
  {
   "cell_type": "code",
   "execution_count": 138,
   "metadata": {},
   "outputs": [],
   "source": [
    "rc = ipp.Client()"
   ]
  },
  {
   "cell_type": "code",
   "execution_count": 139,
   "metadata": {},
   "outputs": [],
   "source": [
    "view = rc.load_balanced_view()"
   ]
  },
  {
   "cell_type": "code",
   "execution_count": 144,
   "metadata": {},
   "outputs": [],
   "source": [
    "def compute(x):\n",
    "    import os\n",
    "    import pandas as pd\n",
    "    from simulation import Simulation\n",
    "    \n",
    "    def load_results_if_present(result_id):\n",
    "        result_file = f'results/r_{result_id}.csv'\n",
    "        return pd.read_csv(result_file, index_col=0) if os.path.isfile(result_file) else None\n",
    "    \n",
    "    idx, row = x\n",
    "    results = load_results_if_present(idx)\n",
    "    if results is None:\n",
    "        param_dict = row.to_dict()\n",
    "        param_dict['quiet'] = True\n",
    "        param_dict['visualize'] = False\n",
    "        param_dict['verbose'] = False\n",
    "        param_dict['print_sum'] = False\n",
    "        param_dict['run_id'] = idx\n",
    "\n",
    "        sim = Simulation(**param_dict)\n",
    "        sim.run()\n",
    "        \n",
    "        results = load_results_if_present(idx)\n",
    "        assert results is not None\n",
    "    return len(results)"
   ]
  },
  {
   "cell_type": "code",
   "execution_count": 145,
   "metadata": {},
   "outputs": [
    {
     "data": {
      "application/vnd.jupyter.widget-view+json": {
       "model_id": "dde1a256a74d41188a81cce83b3162dd",
       "version_major": 2,
       "version_minor": 0
      },
      "text/plain": [
       "IntProgress(value=0, max=4000)"
      ]
     },
     "metadata": {},
     "output_type": "display_data"
    }
   ],
   "source": [
    "ar = view.map_async(compute, pdf.iterrows())\n",
    "progress_bar(ar)"
   ]
  },
  {
   "cell_type": "code",
   "execution_count": 146,
   "metadata": {},
   "outputs": [
    {
     "data": {
      "text/plain": [
       "4000"
      ]
     },
     "execution_count": 146,
     "metadata": {},
     "output_type": "execute_result"
    }
   ],
   "source": [
    "len(ar.result())"
   ]
  },
  {
   "cell_type": "code",
   "execution_count": 6,
   "metadata": {},
   "outputs": [],
   "source": [
    "def compute_metrics(result_df):\n",
    "    last_record = result_df.iloc[-1]\n",
    "    pop_size = 2000\n",
    "    fatalities = last_record['fatalities'] / pop_size\n",
    "    unaffected = last_record['susceptible'] / pop_size\n",
    "    sev2 = last_record['severity2'] / pop_size\n",
    "    \n",
    "    result_df['known%'] = result_df['infected_known'] / result_df['infected']\n",
    "    maxin = result_df.loc[result_df['infected'].idxmax()]['known%']\n",
    "    maxink = result_df.loc[result_df['infected_known'].idxmax()]['known%']\n",
    "    unknown75 = (1 - result_df['known%']).describe()['75%']\n",
    "    unknown50 = (1 - result_df['known%']).describe()['50%']\n",
    "\n",
    "    return {\n",
    "        'fata': fatalities,\n",
    "        'unaf': unaffected,\n",
    "        'sev2': sev2,\n",
    "        'maxin%': maxin,\n",
    "        'maxink%': maxink,\n",
    "        'uk75': unknown75,\n",
    "        'uk50': unknown50\n",
    "    }"
   ]
  },
  {
   "cell_type": "code",
   "execution_count": 7,
   "metadata": {},
   "outputs": [],
   "source": [
    "params = []\n",
    "res_dict = defaultdict(list)\n",
    "\n",
    "for idx, row in pdf.iterrows():\n",
    "    results = load_results_if_present(idx)\n",
    "    assert results is not None\n",
    "    \n",
    "    metrics = compute_metrics(results)\n",
    "    for k, v in metrics.items():\n",
    "        res_dict[k].append(v)\n",
    "    \n",
    "    params.append(list(row))\n",
    "\n",
    "\n",
    "for k in res_dict.keys():\n",
    "    res_dict[k] = np.asarray(res_dict[k])\n",
    "\n",
    "params = np.asarray([np.asarray(ps) for ps in params])"
   ]
  },
  {
   "cell_type": "code",
   "execution_count": 74,
   "metadata": {},
   "outputs": [
    {
     "data": {
      "text/html": [
       "<div>\n",
       "<style scoped>\n",
       "    .dataframe tbody tr th:only-of-type {\n",
       "        vertical-align: middle;\n",
       "    }\n",
       "\n",
       "    .dataframe tbody tr th {\n",
       "        vertical-align: top;\n",
       "    }\n",
       "\n",
       "    .dataframe thead th {\n",
       "        text-align: right;\n",
       "    }\n",
       "</style>\n",
       "<table border=\"1\" class=\"dataframe\">\n",
       "  <thead>\n",
       "    <tr style=\"text-align: right;\">\n",
       "      <th></th>\n",
       "      <th>names</th>\n",
       "      <th>mu</th>\n",
       "      <th>mu_star</th>\n",
       "      <th>sigma</th>\n",
       "      <th>mu_star_conf</th>\n",
       "    </tr>\n",
       "  </thead>\n",
       "  <tbody>\n",
       "    <tr>\n",
       "      <th>0</th>\n",
       "      <td>min_tests_daily_proportion</td>\n",
       "      <td>-0.001065</td>\n",
       "      <td>0.004860</td>\n",
       "      <td>0.006534</td>\n",
       "      <td>0.000964</td>\n",
       "    </tr>\n",
       "    <tr>\n",
       "      <th>1</th>\n",
       "      <td>max_tests_daily_proportion</td>\n",
       "      <td>0.000457</td>\n",
       "      <td>0.005152</td>\n",
       "      <td>0.006295</td>\n",
       "      <td>0.000792</td>\n",
       "    </tr>\n",
       "    <tr>\n",
       "      <th>2</th>\n",
       "      <td>desired_positive_proportion</td>\n",
       "      <td>-0.001695</td>\n",
       "      <td>0.006420</td>\n",
       "      <td>0.007656</td>\n",
       "      <td>0.000913</td>\n",
       "    </tr>\n",
       "  </tbody>\n",
       "</table>\n",
       "</div>"
      ],
      "text/plain": [
       "                         names        mu   mu_star     sigma  mu_star_conf\n",
       "0   min_tests_daily_proportion -0.001065  0.004860  0.006534      0.000964\n",
       "1   max_tests_daily_proportion  0.000457  0.005152  0.006295      0.000792\n",
       "2  desired_positive_proportion -0.001695  0.006420  0.007656      0.000913"
      ]
     },
     "execution_count": 74,
     "metadata": {},
     "output_type": "execute_result"
    }
   ],
   "source": [
    "pd.DataFrame(ma.analyze(problem, params, res_dict['fata'], seed=1234))"
   ]
  },
  {
   "cell_type": "code",
   "execution_count": 13,
   "metadata": {},
   "outputs": [],
   "source": [
    "def make_adf(feature):\n",
    "    adf = pd.DataFrame(ma.analyze(problem, params, res_dict['fata'], seed=1234)).set_index('names')\n",
    "    display(adf)\n",
    "    adf.plot(kind='bar', y='mu', yerr='sigma', grid=True)\n",
    "    adf.plot(kind='bar', y='mu_star', yerr='mu_star_conf', grid=True)"
   ]
  },
  {
   "cell_type": "markdown",
   "metadata": {},
   "source": [
    "- `Mu` is the mean effect caused by the input parameter being moved over its range.\n",
    "- `Sigma` is the standard deviation of the mean effect.\n",
    "- `Mu_star` is the mean absolute effect."
   ]
  },
  {
   "cell_type": "code",
   "execution_count": 14,
   "metadata": {},
   "outputs": [
    {
     "data": {
      "text/html": [
       "<div>\n",
       "<style scoped>\n",
       "    .dataframe tbody tr th:only-of-type {\n",
       "        vertical-align: middle;\n",
       "    }\n",
       "\n",
       "    .dataframe tbody tr th {\n",
       "        vertical-align: top;\n",
       "    }\n",
       "\n",
       "    .dataframe thead th {\n",
       "        text-align: right;\n",
       "    }\n",
       "</style>\n",
       "<table border=\"1\" class=\"dataframe\">\n",
       "  <thead>\n",
       "    <tr style=\"text-align: right;\">\n",
       "      <th></th>\n",
       "      <th>mu</th>\n",
       "      <th>mu_star</th>\n",
       "      <th>sigma</th>\n",
       "      <th>mu_star_conf</th>\n",
       "    </tr>\n",
       "    <tr>\n",
       "      <th>names</th>\n",
       "      <th></th>\n",
       "      <th></th>\n",
       "      <th></th>\n",
       "      <th></th>\n",
       "    </tr>\n",
       "  </thead>\n",
       "  <tbody>\n",
       "    <tr>\n",
       "      <th>min_tests_daily_proportion</th>\n",
       "      <td>-0.000497</td>\n",
       "      <td>0.004429</td>\n",
       "      <td>0.006159</td>\n",
       "      <td>0.000261</td>\n",
       "    </tr>\n",
       "    <tr>\n",
       "      <th>max_tests_daily_proportion</th>\n",
       "      <td>0.000421</td>\n",
       "      <td>0.004924</td>\n",
       "      <td>0.006233</td>\n",
       "      <td>0.000247</td>\n",
       "    </tr>\n",
       "    <tr>\n",
       "      <th>desired_positive_proportion</th>\n",
       "      <td>-0.001712</td>\n",
       "      <td>0.005687</td>\n",
       "      <td>0.007091</td>\n",
       "      <td>0.000315</td>\n",
       "    </tr>\n",
       "  </tbody>\n",
       "</table>\n",
       "</div>"
      ],
      "text/plain": [
       "                                   mu   mu_star     sigma  mu_star_conf\n",
       "names                                                                  \n",
       "min_tests_daily_proportion  -0.000497  0.004429  0.006159      0.000261\n",
       "max_tests_daily_proportion   0.000421  0.004924  0.006233      0.000247\n",
       "desired_positive_proportion -0.001712  0.005687  0.007091      0.000315"
      ]
     },
     "metadata": {},
     "output_type": "display_data"
    },
    {
     "data": {
      "image/png": "[encoded data removed]",
      "text/plain": [
       "<Figure size 432x288 with 1 Axes>"
      ]
     },
     "metadata": {
      "needs_background": "light"
     },
     "output_type": "display_data"
    },
    {
     "data": {
      "image/png": "[encoded data removed]",
      "text/plain": [
       "<Figure size 432x288 with 1 Axes>"
      ]
     },
     "metadata": {
      "needs_background": "light"
     },
     "output_type": "display_data"
    }
   ],
   "source": [
    "make_adf('fata')"
   ]
  },
  {
   "cell_type": "code",
   "execution_count": 15,
   "metadata": {},
   "outputs": [
    {
     "data": {
      "text/html": [
       "<div>\n",
       "<style scoped>\n",
       "    .dataframe tbody tr th:only-of-type {\n",
       "        vertical-align: middle;\n",
       "    }\n",
       "\n",
       "    .dataframe tbody tr th {\n",
       "        vertical-align: top;\n",
       "    }\n",
       "\n",
       "    .dataframe thead th {\n",
       "        text-align: right;\n",
       "    }\n",
       "</style>\n",
       "<table border=\"1\" class=\"dataframe\">\n",
       "  <thead>\n",
       "    <tr style=\"text-align: right;\">\n",
       "      <th></th>\n",
       "      <th>mu</th>\n",
       "      <th>mu_star</th>\n",
       "      <th>sigma</th>\n",
       "      <th>mu_star_conf</th>\n",
       "    </tr>\n",
       "    <tr>\n",
       "      <th>names</th>\n",
       "      <th></th>\n",
       "      <th></th>\n",
       "      <th></th>\n",
       "      <th></th>\n",
       "    </tr>\n",
       "  </thead>\n",
       "  <tbody>\n",
       "    <tr>\n",
       "      <th>min_tests_daily_proportion</th>\n",
       "      <td>-0.000497</td>\n",
       "      <td>0.004429</td>\n",
       "      <td>0.006159</td>\n",
       "      <td>0.000261</td>\n",
       "    </tr>\n",
       "    <tr>\n",
       "      <th>max_tests_daily_proportion</th>\n",
       "      <td>0.000421</td>\n",
       "      <td>0.004924</td>\n",
       "      <td>0.006233</td>\n",
       "      <td>0.000247</td>\n",
       "    </tr>\n",
       "    <tr>\n",
       "      <th>desired_positive_proportion</th>\n",
       "      <td>-0.001712</td>\n",
       "      <td>0.005687</td>\n",
       "      <td>0.007091</td>\n",
       "      <td>0.000315</td>\n",
       "    </tr>\n",
       "  </tbody>\n",
       "</table>\n",
       "</div>"
      ],
      "text/plain": [
       "                                   mu   mu_star     sigma  mu_star_conf\n",
       "names                                                                  \n",
       "min_tests_daily_proportion  -0.000497  0.004429  0.006159      0.000261\n",
       "max_tests_daily_proportion   0.000421  0.004924  0.006233      0.000247\n",
       "desired_positive_proportion -0.001712  0.005687  0.007091      0.000315"
      ]
     },
     "metadata": {},
     "output_type": "display_data"
    },
    {
     "data": {
      "image/png": "[encoded data removed]",
      "text/plain": [
       "<Figure size 432x288 with 1 Axes>"
      ]
     },
     "metadata": {
      "needs_background": "light"
     },
     "output_type": "display_data"
    },
    {
     "data": {
      "image/png": "[encoded data removed]",
      "text/plain": [
       "<Figure size 432x288 with 1 Axes>"
      ]
     },
     "metadata": {
      "needs_background": "light"
     },
     "output_type": "display_data"
    }
   ],
   "source": [
    "make_adf('unaf')"
   ]
  },
  {
   "cell_type": "code",
   "execution_count": 16,
   "metadata": {},
   "outputs": [
    {
     "data": {
      "text/html": [
       "<div>\n",
       "<style scoped>\n",
       "    .dataframe tbody tr th:only-of-type {\n",
       "        vertical-align: middle;\n",
       "    }\n",
       "\n",
       "    .dataframe tbody tr th {\n",
       "        vertical-align: top;\n",
       "    }\n",
       "\n",
       "    .dataframe thead th {\n",
       "        text-align: right;\n",
       "    }\n",
       "</style>\n",
       "<table border=\"1\" class=\"dataframe\">\n",
       "  <thead>\n",
       "    <tr style=\"text-align: right;\">\n",
       "      <th></th>\n",
       "      <th>mu</th>\n",
       "      <th>mu_star</th>\n",
       "      <th>sigma</th>\n",
       "      <th>mu_star_conf</th>\n",
       "    </tr>\n",
       "    <tr>\n",
       "      <th>names</th>\n",
       "      <th></th>\n",
       "      <th></th>\n",
       "      <th></th>\n",
       "      <th></th>\n",
       "    </tr>\n",
       "  </thead>\n",
       "  <tbody>\n",
       "    <tr>\n",
       "      <th>min_tests_daily_proportion</th>\n",
       "      <td>-0.000497</td>\n",
       "      <td>0.004429</td>\n",
       "      <td>0.006159</td>\n",
       "      <td>0.000261</td>\n",
       "    </tr>\n",
       "    <tr>\n",
       "      <th>max_tests_daily_proportion</th>\n",
       "      <td>0.000421</td>\n",
       "      <td>0.004924</td>\n",
       "      <td>0.006233</td>\n",
       "      <td>0.000247</td>\n",
       "    </tr>\n",
       "    <tr>\n",
       "      <th>desired_positive_proportion</th>\n",
       "      <td>-0.001712</td>\n",
       "      <td>0.005687</td>\n",
       "      <td>0.007091</td>\n",
       "      <td>0.000315</td>\n",
       "    </tr>\n",
       "  </tbody>\n",
       "</table>\n",
       "</div>"
      ],
      "text/plain": [
       "                                   mu   mu_star     sigma  mu_star_conf\n",
       "names                                                                  \n",
       "min_tests_daily_proportion  -0.000497  0.004429  0.006159      0.000261\n",
       "max_tests_daily_proportion   0.000421  0.004924  0.006233      0.000247\n",
       "desired_positive_proportion -0.001712  0.005687  0.007091      0.000315"
      ]
     },
     "metadata": {},
     "output_type": "display_data"
    },
    {
     "data": {
      "image/png": "[encoded data removed]",
      "text/plain": [
       "<Figure size 432x288 with 1 Axes>"
      ]
     },
     "metadata": {
      "needs_background": "light"
     },
     "output_type": "display_data"
    },
    {
     "data": {
      "image/png": "[encoded data removed]",
      "text/plain": [
       "<Figure size 432x288 with 1 Axes>"
      ]
     },
     "metadata": {
      "needs_background": "light"
     },
     "output_type": "display_data"
    }
   ],
   "source": [
    "make_adf('sev2')"
   ]
  },
  {
   "cell_type": "code",
   "execution_count": 17,
   "metadata": {},
   "outputs": [
    {
     "data": {
      "text/html": [
       "<div>\n",
       "<style scoped>\n",
       "    .dataframe tbody tr th:only-of-type {\n",
       "        vertical-align: middle;\n",
       "    }\n",
       "\n",
       "    .dataframe tbody tr th {\n",
       "        vertical-align: top;\n",
       "    }\n",
       "\n",
       "    .dataframe thead th {\n",
       "        text-align: right;\n",
       "    }\n",
       "</style>\n",
       "<table border=\"1\" class=\"dataframe\">\n",
       "  <thead>\n",
       "    <tr style=\"text-align: right;\">\n",
       "      <th></th>\n",
       "      <th>mu</th>\n",
       "      <th>mu_star</th>\n",
       "      <th>sigma</th>\n",
       "      <th>mu_star_conf</th>\n",
       "    </tr>\n",
       "    <tr>\n",
       "      <th>names</th>\n",
       "      <th></th>\n",
       "      <th></th>\n",
       "      <th></th>\n",
       "      <th></th>\n",
       "    </tr>\n",
       "  </thead>\n",
       "  <tbody>\n",
       "    <tr>\n",
       "      <th>min_tests_daily_proportion</th>\n",
       "      <td>-0.000497</td>\n",
       "      <td>0.004429</td>\n",
       "      <td>0.006159</td>\n",
       "      <td>0.000261</td>\n",
       "    </tr>\n",
       "    <tr>\n",
       "      <th>max_tests_daily_proportion</th>\n",
       "      <td>0.000421</td>\n",
       "      <td>0.004924</td>\n",
       "      <td>0.006233</td>\n",
       "      <td>0.000247</td>\n",
       "    </tr>\n",
       "    <tr>\n",
       "      <th>desired_positive_proportion</th>\n",
       "      <td>-0.001712</td>\n",
       "      <td>0.005687</td>\n",
       "      <td>0.007091</td>\n",
       "      <td>0.000315</td>\n",
       "    </tr>\n",
       "  </tbody>\n",
       "</table>\n",
       "</div>"
      ],
      "text/plain": [
       "                                   mu   mu_star     sigma  mu_star_conf\n",
       "names                                                                  \n",
       "min_tests_daily_proportion  -0.000497  0.004429  0.006159      0.000261\n",
       "max_tests_daily_proportion   0.000421  0.004924  0.006233      0.000247\n",
       "desired_positive_proportion -0.001712  0.005687  0.007091      0.000315"
      ]
     },
     "metadata": {},
     "output_type": "display_data"
    },
    {
     "data": {
      "image/png": "[encoded data removed]",
      "text/plain": [
       "<Figure size 432x288 with 1 Axes>"
      ]
     },
     "metadata": {
      "needs_background": "light"
     },
     "output_type": "display_data"
    },
    {
     "data": {
      "image/png": "[encoded data removed]",
      "text/plain": [
       "<Figure size 432x288 with 1 Axes>"
      ]
     },
     "metadata": {
      "needs_background": "light"
     },
     "output_type": "display_data"
    }
   ],
   "source": [
    "make_adf('maxin%')"
   ]
  },
  {
   "cell_type": "code",
   "execution_count": 18,
   "metadata": {},
   "outputs": [
    {
     "data": {
      "text/html": [
       "<div>\n",
       "<style scoped>\n",
       "    .dataframe tbody tr th:only-of-type {\n",
       "        vertical-align: middle;\n",
       "    }\n",
       "\n",
       "    .dataframe tbody tr th {\n",
       "        vertical-align: top;\n",
       "    }\n",
       "\n",
       "    .dataframe thead th {\n",
       "        text-align: right;\n",
       "    }\n",
       "</style>\n",
       "<table border=\"1\" class=\"dataframe\">\n",
       "  <thead>\n",
       "    <tr style=\"text-align: right;\">\n",
       "      <th></th>\n",
       "      <th>mu</th>\n",
       "      <th>mu_star</th>\n",
       "      <th>sigma</th>\n",
       "      <th>mu_star_conf</th>\n",
       "    </tr>\n",
       "    <tr>\n",
       "      <th>names</th>\n",
       "      <th></th>\n",
       "      <th></th>\n",
       "      <th></th>\n",
       "      <th></th>\n",
       "    </tr>\n",
       "  </thead>\n",
       "  <tbody>\n",
       "    <tr>\n",
       "      <th>min_tests_daily_proportion</th>\n",
       "      <td>-0.000497</td>\n",
       "      <td>0.004429</td>\n",
       "      <td>0.006159</td>\n",
       "      <td>0.000261</td>\n",
       "    </tr>\n",
       "    <tr>\n",
       "      <th>max_tests_daily_proportion</th>\n",
       "      <td>0.000421</td>\n",
       "      <td>0.004924</td>\n",
       "      <td>0.006233</td>\n",
       "      <td>0.000247</td>\n",
       "    </tr>\n",
       "    <tr>\n",
       "      <th>desired_positive_proportion</th>\n",
       "      <td>-0.001712</td>\n",
       "      <td>0.005687</td>\n",
       "      <td>0.007091</td>\n",
       "      <td>0.000315</td>\n",
       "    </tr>\n",
       "  </tbody>\n",
       "</table>\n",
       "</div>"
      ],
      "text/plain": [
       "                                   mu   mu_star     sigma  mu_star_conf\n",
       "names                                                                  \n",
       "min_tests_daily_proportion  -0.000497  0.004429  0.006159      0.000261\n",
       "max_tests_daily_proportion   0.000421  0.004924  0.006233      0.000247\n",
       "desired_positive_proportion -0.001712  0.005687  0.007091      0.000315"
      ]
     },
     "metadata": {},
     "output_type": "display_data"
    },
    {
     "data": {
      "image/png": "[encoded data removed]",
      "text/plain": [
       "<Figure size 432x288 with 1 Axes>"
      ]
     },
     "metadata": {
      "needs_background": "light"
     },
     "output_type": "display_data"
    },
    {
     "data": {
      "image/png": "[encoded data removed]",
      "text/plain": [
       "<Figure size 432x288 with 1 Axes>"
      ]
     },
     "metadata": {
      "needs_background": "light"
     },
     "output_type": "display_data"
    }
   ],
   "source": [
    "make_adf('maxink%')"
   ]
  },
  {
   "cell_type": "code",
   "execution_count": 19,
   "metadata": {},
   "outputs": [
    {
     "data": {
      "text/html": [
       "<div>\n",
       "<style scoped>\n",
       "    .dataframe tbody tr th:only-of-type {\n",
       "        vertical-align: middle;\n",
       "    }\n",
       "\n",
       "    .dataframe tbody tr th {\n",
       "        vertical-align: top;\n",
       "    }\n",
       "\n",
       "    .dataframe thead th {\n",
       "        text-align: right;\n",
       "    }\n",
       "</style>\n",
       "<table border=\"1\" class=\"dataframe\">\n",
       "  <thead>\n",
       "    <tr style=\"text-align: right;\">\n",
       "      <th></th>\n",
       "      <th>mu</th>\n",
       "      <th>mu_star</th>\n",
       "      <th>sigma</th>\n",
       "      <th>mu_star_conf</th>\n",
       "    </tr>\n",
       "    <tr>\n",
       "      <th>names</th>\n",
       "      <th></th>\n",
       "      <th></th>\n",
       "      <th></th>\n",
       "      <th></th>\n",
       "    </tr>\n",
       "  </thead>\n",
       "  <tbody>\n",
       "    <tr>\n",
       "      <th>min_tests_daily_proportion</th>\n",
       "      <td>-0.000497</td>\n",
       "      <td>0.004429</td>\n",
       "      <td>0.006159</td>\n",
       "      <td>0.000261</td>\n",
       "    </tr>\n",
       "    <tr>\n",
       "      <th>max_tests_daily_proportion</th>\n",
       "      <td>0.000421</td>\n",
       "      <td>0.004924</td>\n",
       "      <td>0.006233</td>\n",
       "      <td>0.000247</td>\n",
       "    </tr>\n",
       "    <tr>\n",
       "      <th>desired_positive_proportion</th>\n",
       "      <td>-0.001712</td>\n",
       "      <td>0.005687</td>\n",
       "      <td>0.007091</td>\n",
       "      <td>0.000315</td>\n",
       "    </tr>\n",
       "  </tbody>\n",
       "</table>\n",
       "</div>"
      ],
      "text/plain": [
       "                                   mu   mu_star     sigma  mu_star_conf\n",
       "names                                                                  \n",
       "min_tests_daily_proportion  -0.000497  0.004429  0.006159      0.000261\n",
       "max_tests_daily_proportion   0.000421  0.004924  0.006233      0.000247\n",
       "desired_positive_proportion -0.001712  0.005687  0.007091      0.000315"
      ]
     },
     "metadata": {},
     "output_type": "display_data"
    },
    {
     "data": {
      "image/png": "[encoded data removed]",
      "text/plain": [
       "<Figure size 432x288 with 1 Axes>"
      ]
     },
     "metadata": {
      "needs_background": "light"
     },
     "output_type": "display_data"
    },
    {
     "data": {
      "image/png": "[encoded data removed]",
      "text/plain": [
       "<Figure size 432x288 with 1 Axes>"
      ]
     },
     "metadata": {
      "needs_background": "light"
     },
     "output_type": "display_data"
    }
   ],
   "source": [
    "make_adf('uk75%')"
   ]
  },
  {
   "cell_type": "code",
   "execution_count": 20,
   "metadata": {},
   "outputs": [
    {
     "data": {
      "text/html": [
       "<div>\n",
       "<style scoped>\n",
       "    .dataframe tbody tr th:only-of-type {\n",
       "        vertical-align: middle;\n",
       "    }\n",
       "\n",
       "    .dataframe tbody tr th {\n",
       "        vertical-align: top;\n",
       "    }\n",
       "\n",
       "    .dataframe thead th {\n",
       "        text-align: right;\n",
       "    }\n",
       "</style>\n",
       "<table border=\"1\" class=\"dataframe\">\n",
       "  <thead>\n",
       "    <tr style=\"text-align: right;\">\n",
       "      <th></th>\n",
       "      <th>mu</th>\n",
       "      <th>mu_star</th>\n",
       "      <th>sigma</th>\n",
       "      <th>mu_star_conf</th>\n",
       "    </tr>\n",
       "    <tr>\n",
       "      <th>names</th>\n",
       "      <th></th>\n",
       "      <th></th>\n",
       "      <th></th>\n",
       "      <th></th>\n",
       "    </tr>\n",
       "  </thead>\n",
       "  <tbody>\n",
       "    <tr>\n",
       "      <th>min_tests_daily_proportion</th>\n",
       "      <td>-0.000497</td>\n",
       "      <td>0.004429</td>\n",
       "      <td>0.006159</td>\n",
       "      <td>0.000261</td>\n",
       "    </tr>\n",
       "    <tr>\n",
       "      <th>max_tests_daily_proportion</th>\n",
       "      <td>0.000421</td>\n",
       "      <td>0.004924</td>\n",
       "      <td>0.006233</td>\n",
       "      <td>0.000247</td>\n",
       "    </tr>\n",
       "    <tr>\n",
       "      <th>desired_positive_proportion</th>\n",
       "      <td>-0.001712</td>\n",
       "      <td>0.005687</td>\n",
       "      <td>0.007091</td>\n",
       "      <td>0.000315</td>\n",
       "    </tr>\n",
       "  </tbody>\n",
       "</table>\n",
       "</div>"
      ],
      "text/plain": [
       "                                   mu   mu_star     sigma  mu_star_conf\n",
       "names                                                                  \n",
       "min_tests_daily_proportion  -0.000497  0.004429  0.006159      0.000261\n",
       "max_tests_daily_proportion   0.000421  0.004924  0.006233      0.000247\n",
       "desired_positive_proportion -0.001712  0.005687  0.007091      0.000315"
      ]
     },
     "metadata": {},
     "output_type": "display_data"
    },
    {
     "data": {
      "image/png": "[encoded data removed]",
      "text/plain": [
       "<Figure size 432x288 with 1 Axes>"
      ]
     },
     "metadata": {
      "needs_background": "light"
     },
     "output_type": "display_data"
    },
    {
     "data": {
      "image/png": "[encoded data removed]",
      "text/plain": [
       "<Figure size 432x288 with 1 Axes>"
      ]
     },
     "metadata": {
      "needs_background": "light"
     },
     "output_type": "display_data"
    }
   ],
   "source": [
    "make_adf('uk50%')"
   ]
  }
 ],
 "metadata": {
  "kernelspec": {
   "display_name": "Python 3",
   "language": "python",
   "name": "python3"
  },
  "language_info": {
   "codemirror_mode": {
    "name": "ipython",
    "version": 3
   },
   "file_extension": ".py",
   "mimetype": "text/x-python",
   "name": "python",
   "nbconvert_exporter": "python",
   "pygments_lexer": "ipython3",
   "version": "3.8.6"
  }
 },
 "nbformat": 4,
 "nbformat_minor": 4
}
