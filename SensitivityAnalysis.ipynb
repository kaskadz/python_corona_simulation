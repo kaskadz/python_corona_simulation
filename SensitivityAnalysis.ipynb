{
 "cells": [
  {
   "cell_type": "code",
   "execution_count": 33,
   "metadata": {},
   "outputs": [],
   "source": [
    "import pandas as pd\n",
    "import numpy as np\n",
    "from tqdm.notebook import trange, tqdm\n",
    "from itertools import islice, chain\n",
    "import hashlib\n",
    "import os\n",
    "from SALib.sample import saltelli\n",
    "from SALib.analyze import sobol\n",
    "from SALib.test_functions import Ishigami\n",
    "from SALib.sample import morris as ms\n",
    "from SALib.analyze import morris as ma\n",
    "from SALib.plotting import morris as mp\n",
    "from simulation import Simulation"
   ]
  },
  {
   "cell_type": "code",
   "execution_count": 2,
   "metadata": {},
   "outputs": [],
   "source": [
    "variables_all = {\n",
    "    'proportion_wearing_masks': (0.1, 0.95),\n",
    "    'test_proportion_to_start': (0.01, 0.1),\n",
    "    'self_isolate_proportion': (0.1, 0.95),\n",
    "    'min_tests_daily_proportion': (0.001, 0.01),\n",
    "    'max_tests_daily_proportion': (0.01, 0.1),\n",
    "    'desired_positive_proportion': (0.01, 0.5),\n",
    "    'healthcare_capacity': (50, 150),\n",
    "    'speed': (0.005, 0.04),\n",
    "}"
   ]
  },
  {
   "cell_type": "code",
   "execution_count": 3,
   "metadata": {},
   "outputs": [],
   "source": [
    "def build_problem(variables):\n",
    "    return {\n",
    "        'num_vars': len(variables),\n",
    "        'names': variables.keys(),\n",
    "        'bounds': [list(x) for x in variables.values()]\n",
    "    }"
   ]
  },
  {
   "cell_type": "code",
   "execution_count": 4,
   "metadata": {},
   "outputs": [],
   "source": [
    "def compute_row_hash(row):\n",
    "    return hashlib.sha1(np.array(row)).hexdigest()"
   ]
  },
  {
   "cell_type": "code",
   "execution_count": 5,
   "metadata": {},
   "outputs": [],
   "source": [
    "def generate_samples_df(variables, sampling_fun):\n",
    "    problem = build_problem(variables)\n",
    "    samples = sampling_fun(problem)\n",
    "    \n",
    "    df = pd.DataFrame(samples, columns=variables.keys())\n",
    "    \n",
    "    missing_cols = set(variables_all.keys()) - set(df.columns)\n",
    "    for m in missing_cols:\n",
    "        df[m] = \"\"\n",
    "    \n",
    "    df['hash'] = df.apply(compute_row_hash, axis=1)\n",
    "    df.set_index('hash', inplace=True)\n",
    "    return df"
   ]
  },
  {
   "cell_type": "code",
   "execution_count": 6,
   "metadata": {},
   "outputs": [],
   "source": [
    "def spit_params_dicts(samples_df):\n",
    "    for idx, row in df.iterrows():\n",
    "        params = dict(row)\n",
    "        params['run_id'] = idx\n",
    "        yield params"
   ]
  },
  {
   "cell_type": "code",
   "execution_count": 7,
   "metadata": {},
   "outputs": [],
   "source": [
    "paramsets_file = 'paramsets.csv'\n",
    "def load_paramsets_if_present():\n",
    "    return pd.read_csv(paramsets_file, index_col=0) if os.path.isfile(paramsets_file) else None"
   ]
  },
  {
   "cell_type": "code",
   "execution_count": 8,
   "metadata": {},
   "outputs": [],
   "source": [
    "def load_results_if_present(result_id):\n",
    "    result_file = f'results/r_{result_id}.csv'\n",
    "    return pd.read_csv(result_file, index_col=0) if os.path.isfile(result_file) else None"
   ]
  },
  {
   "cell_type": "code",
   "execution_count": 9,
   "metadata": {},
   "outputs": [],
   "source": [
    "def generate_persistent_samples(variables, sampling_fun):\n",
    "    df = generate_samples_df(variables, sampling_fun)\n",
    "    pdf = load_paramsets_if_present()\n",
    "    if pdf is None:\n",
    "        df.to_csv(paramsets_file)\n",
    "    else:\n",
    "        xdf = pdf.append(df)\n",
    "        udf = xdf.reset_index().drop_duplicates('hash').set_index('hash')\n",
    "        udf.to_csv(paramsets_file)\n",
    "    \n",
    "    return list(df.index)"
   ]
  },
  {
   "cell_type": "code",
   "execution_count": 10,
   "metadata": {},
   "outputs": [],
   "source": [
    "def select_variables(*names):\n",
    "    names = set(names)\n",
    "    if 'all' in names or len(names) == 0:\n",
    "        return variables_all\n",
    "    \n",
    "    return dict(filter(lambda x: x[0] in names, variables_all.items()))"
   ]
  },
  {
   "cell_type": "code",
   "execution_count": 16,
   "metadata": {},
   "outputs": [],
   "source": [
    "# def compute_sensitivity(variables, sampling_fun):\n",
    "#     setids = generate_persistent_samples(variables, sampling_fun)\n",
    "    \n",
    "#     paramsets = load_paramsets_if_present()\n",
    "#     assert paramsets is not None\n",
    "    \n",
    "#     for setid in tqdm(setids):\n",
    "#         results = load_results_if_present(setid)\n",
    "#         if results is None:\n",
    "#             param_dict = paramsets.loc[setid].dropna().to_dict()\n",
    "#             param_dict['quiet'] = True\n",
    "#             param_dict['visualize'] = False\n",
    "#             param_dict['verbose'] = False\n",
    "#             param_dict['print_sum'] = False\n",
    "#             param_dict['run_id'] = setid\n",
    "\n",
    "#             sim = Simulation(**param_dict)\n",
    "#             sim.run()\n",
    "            \n",
    "#             results = load_results_if_present(setid)\n",
    "#             assert results is not None"
   ]
  },
  {
   "cell_type": "code",
   "execution_count": 34,
   "metadata": {},
   "outputs": [],
   "source": [
    "def batches(iterable, n=1):\n",
    "    l = len(iterable)\n",
    "    for ndx in range(0, l, n):\n",
    "        yield iterable[ndx:min(ndx + n, l)]"
   ]
  },
  {
   "cell_type": "code",
   "execution_count": 39,
   "metadata": {},
   "outputs": [],
   "source": [
    "def generate_paramsets(variables, sampling_fun, batch_size):\n",
    "    setids = generate_persistent_samples(variables, sampling_fun)\n",
    "    \n",
    "    for i, b in enumerate(batches(setids, batch_size)):\n",
    "        print(f'---|{i}|-')\n",
    "        print(' '.join(b))"
   ]
  },
  {
   "cell_type": "code",
   "execution_count": 40,
   "metadata": {},
   "outputs": [
    {
     "name": "stdout",
     "output_type": "stream",
     "text": [
      "---|0|-\n",
      "87ba5323e3047041c7a79118caba858ddea28974 f3f25677cdad10fbedf8c3057f77c0a7772a279b f8f70767a2c3dc046d2a6a523fedac1a68433f52 cdeb727ee9e029b07a2ccfcb2caa2dcf5db71783 cafe0b92537659f6409b8a583e599e2f0ff2841e b79a8efaacefadaaafd9be54b7e4a660cd62b438 c26b7a45f00ae9fd22d85a957a6fcdbb7ac5ca46 2181cfd9c2872d7528bb50263b7b5d22a18b2d1d 6d3789f14ccd1857064e10999bdfcd8f3fc16758 cf987237929abd61cca3883c16fe06f122a1eab9\n",
      "---|1|-\n",
      "69254aea42ab581af9f7f1b9bcaf0cae306865b8 af04dd29969788a64a758a4c774fc3ad32d82c05 2f4767a19e3fbc4a4fbae67833ff950c239ad966 3b7c92595bf3ee161b70803abf500e4e06d94414 c2281491d81ee81fae01d7055a47882e1cf07956 e1720a4598910e202f007887095543bbea590bbc 809af73011554af0b92cea0cc55d11627d212afe 7413ab5d6e914d8746de46369fd8c3a356adf8bf e09b3f3f3ccd600b37fdd4b1e65e366f4d2f502b c0b88cc798d2b21831ffa1275579e52141fd1625\n",
      "---|2|-\n",
      "216d6e50e85d83678d49321c4d4038a7493c66e7 c3341d2c239cd0271331853391ae80135782da17 e38bdcd24c3143fd66924b9e974f2587024f8620 47929de529e42e785b0efe7062945c88d36a5fe9 0716308c966d423dff1709064a39817b9f4a6c05 8a841613504f0290e647e9c5a4431d6046da9449 28cb25e970d22fff919b07a7ff16bac9fba47ae8 88d6bd68da2d63e3a67c7985f91dce9500f70ab0 3b84c2b5e8eed67b59358686fa350168527fe2dd 707c3a8951bc4a351db90541e301b20e392016f5\n",
      "---|3|-\n",
      "80f917cd43d91b7f50691560b76d9b8dfaa1c7a4 9e061d3296f5e1b98e0b74582c673f57364eb128 ef07862ecf339d1909232d14c5efddf015e4d7c7 72c2a253f280cab5ff402f8d77666b6dc4061f97 25161f0b02343a7ae4f7fcff516ce7b30882dd95 4272ce6ebe963e9f20124f8daf44a10c7cc182fa 2e54740d1c3f708dfce2ca69ad1c4df789ae5998 03965bbdd36c4d457ead7d7db91f086499cca45f d217e39c1fc86271060abaae056f8465d7996b69 fdadde3846d0bfb2f56bfdd6746d1879cf3992f8\n"
     ]
    }
   ],
   "source": [
    "generate_paramsets(select_variables('speed'), lambda x: saltelli.sample(x, 10), 10)"
   ]
  }
 ],
 "metadata": {
  "kernelspec": {
   "display_name": "Python 3",
   "language": "python",
   "name": "python3"
  },
  "language_info": {
   "codemirror_mode": {
    "name": "ipython",
    "version": 3
   },
   "file_extension": ".py",
   "mimetype": "text/x-python",
   "name": "python",
   "nbconvert_exporter": "python",
   "pygments_lexer": "ipython3",
   "version": "3.7.9"
  }
 },
 "nbformat": 4,
 "nbformat_minor": 4
}
