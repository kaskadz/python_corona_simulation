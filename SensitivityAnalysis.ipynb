{
 "cells": [
  {
   "cell_type": "code",
   "execution_count": 11,
   "metadata": {},
   "outputs": [],
   "source": [
    "%matplotlib inline"
   ]
  },
  {
   "cell_type": "code",
   "execution_count": 23,
   "metadata": {},
   "outputs": [],
   "source": [
    "import pandas as pd\n",
    "from matplotlib import pyplot as plt\n",
    "\n",
    "plt.rcParams[\"figure.figsize\"] = (14, 8)"
   ]
  },
  {
   "cell_type": "code",
   "execution_count": 17,
   "metadata": {},
   "outputs": [],
   "source": [
    "def get_prefixed_filename(prefix, filename):\n",
    "    return filename if prefix is None else f'{prefix}_{filename}'\n",
    "\n",
    "def load_simulation_results(name=None):\n",
    "    filename = get_prefixed_filename(name, 'results.csv')\n",
    "    return pd.read_csv(filename)\n",
    "\n",
    "def load_sensitivity_results(variable, name=None):\n",
    "    filename = get_prefixed_filename(name, f'{variable}_results.csv')\n",
    "    return pd.read_csv(filename).set_index('parameter')"
   ]
  },
  {
   "cell_type": "code",
   "execution_count": 18,
   "metadata": {},
   "outputs": [],
   "source": [
    "def barplot(sensitivity_df):\n",
    "    CONF_COLUMN = '_conf'\n",
    "    conf_cols = sensitivity_df.columns.str.contains(CONF_COLUMN)\n",
    "\n",
    "    confs = sensitivity_df.loc[:, conf_cols]\n",
    "    confs.columns = [c.replace(CONF_COLUMN, '') for c in confs.columns]\n",
    "\n",
    "    df = sensitivity_df.loc[:, ~conf_cols]\n",
    "\n",
    "    df.plot(kind='bar', yerr=confs, grid=True)"
   ]
  },
  {
   "cell_type": "code",
   "execution_count": 19,
   "metadata": {},
   "outputs": [
    {
     "data": {
      "text/html": [
       "<div>\n",
       "<style scoped>\n",
       "    .dataframe tbody tr th:only-of-type {\n",
       "        vertical-align: middle;\n",
       "    }\n",
       "\n",
       "    .dataframe tbody tr th {\n",
       "        vertical-align: top;\n",
       "    }\n",
       "\n",
       "    .dataframe thead th {\n",
       "        text-align: right;\n",
       "    }\n",
       "</style>\n",
       "<table border=\"1\" class=\"dataframe\">\n",
       "  <thead>\n",
       "    <tr style=\"text-align: right;\">\n",
       "      <th></th>\n",
       "      <th>ST</th>\n",
       "      <th>ST_conf</th>\n",
       "      <th>S1</th>\n",
       "      <th>S1_conf</th>\n",
       "    </tr>\n",
       "    <tr>\n",
       "      <th>parameter</th>\n",
       "      <th></th>\n",
       "      <th></th>\n",
       "      <th></th>\n",
       "      <th></th>\n",
       "    </tr>\n",
       "  </thead>\n",
       "  <tbody>\n",
       "    <tr>\n",
       "      <th>mean_age</th>\n",
       "      <td>1.081913</td>\n",
       "      <td>1.109483</td>\n",
       "      <td>2.009341</td>\n",
       "      <td>2.390899</td>\n",
       "    </tr>\n",
       "    <tr>\n",
       "      <th>risk_age</th>\n",
       "      <td>0.010001</td>\n",
       "      <td>1.443765</td>\n",
       "      <td>0.029701</td>\n",
       "      <td>1.936327</td>\n",
       "    </tr>\n",
       "  </tbody>\n",
       "</table>\n",
       "</div>"
      ],
      "text/plain": [
       "                 ST   ST_conf        S1   S1_conf\n",
       "parameter                                        \n",
       "mean_age   1.081913  1.109483  2.009341  2.390899\n",
       "risk_age   0.010001  1.443765  0.029701  1.936327"
      ]
     },
     "execution_count": 19,
     "metadata": {},
     "output_type": "execute_result"
    }
   ],
   "source": [
    "sdf1 = load_sensitivity_results('recovered')\n",
    "sdf1"
   ]
  },
  {
   "cell_type": "code",
   "execution_count": 24,
   "metadata": {},
   "outputs": [
    {
     "data": {
      "image/png": "[encoded data removed]",
      "text/plain": [
       "<Figure size 1008x576 with 1 Axes>"
      ]
     },
     "metadata": {
      "needs_background": "light"
     },
     "output_type": "display_data"
    }
   ],
   "source": [
    "barplot(sdf1)"
   ]
  }
 ],
 "metadata": {
  "kernelspec": {
   "display_name": "Python 3",
   "language": "python",
   "name": "python3"
  },
  "language_info": {
   "codemirror_mode": {
    "name": "ipython",
    "version": 3
   },
   "file_extension": ".py",
   "mimetype": "text/x-python",
   "name": "python",
   "nbconvert_exporter": "python",
   "pygments_lexer": "ipython3",
   "version": "3.7.9"
  }
 },
 "nbformat": 4,
 "nbformat_minor": 4
}
