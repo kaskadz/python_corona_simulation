{
 "cells": [
  {
   "cell_type": "code",
   "execution_count": 1,
   "metadata": {},
   "outputs": [],
   "source": [
    "%matplotlib inline"
   ]
  },
  {
   "cell_type": "code",
   "execution_count": 2,
   "metadata": {},
   "outputs": [],
   "source": [
    "import pandas as pd\n",
    "import re\n",
    "from matplotlib import rcParams\n",
    "import random as ra"
   ]
  },
  {
   "cell_type": "code",
   "execution_count": 3,
   "metadata": {},
   "outputs": [],
   "source": [
    "rcParams['figure.figsize'] = (14, 10)"
   ]
  },
  {
   "cell_type": "code",
   "execution_count": 4,
   "metadata": {},
   "outputs": [],
   "source": [
    "demog_df = pd.read_csv('demographics.csv')"
   ]
  },
  {
   "cell_type": "code",
   "execution_count": 5,
   "metadata": {},
   "outputs": [],
   "source": [
    "index_df = pd.read_csv('index.csv')"
   ]
  },
  {
   "cell_type": "markdown",
   "metadata": {},
   "source": [
    "## Region itentification"
   ]
  },
  {
   "cell_type": "code",
   "execution_count": 6,
   "metadata": {},
   "outputs": [
    {
     "data": {
      "text/html": [
       "<div>\n",
       "<style scoped>\n",
       "    .dataframe tbody tr th:only-of-type {\n",
       "        vertical-align: middle;\n",
       "    }\n",
       "\n",
       "    .dataframe tbody tr th {\n",
       "        vertical-align: top;\n",
       "    }\n",
       "\n",
       "    .dataframe thead th {\n",
       "        text-align: right;\n",
       "    }\n",
       "</style>\n",
       "<table border=\"1\" class=\"dataframe\">\n",
       "  <thead>\n",
       "    <tr style=\"text-align: right;\">\n",
       "      <th></th>\n",
       "      <th>key</th>\n",
       "      <th>wikidata</th>\n",
       "      <th>datacommons</th>\n",
       "      <th>country_code</th>\n",
       "      <th>country_name</th>\n",
       "      <th>subregion1_code</th>\n",
       "      <th>subregion1_name</th>\n",
       "      <th>subregion2_code</th>\n",
       "      <th>subregion2_name</th>\n",
       "      <th>locality_code</th>\n",
       "      <th>locality_name</th>\n",
       "      <th>3166-1-alpha-2</th>\n",
       "      <th>3166-1-alpha-3</th>\n",
       "      <th>aggregation_level</th>\n",
       "    </tr>\n",
       "  </thead>\n",
       "  <tbody>\n",
       "    <tr>\n",
       "      <th>12393</th>\n",
       "      <td>IT_25_BG</td>\n",
       "      <td>Q16137</td>\n",
       "      <td>iso/IT-BG</td>\n",
       "      <td>IT</td>\n",
       "      <td>Italy</td>\n",
       "      <td>25</td>\n",
       "      <td>Lombardy</td>\n",
       "      <td>BG</td>\n",
       "      <td>Bergamo</td>\n",
       "      <td>NaN</td>\n",
       "      <td>NaN</td>\n",
       "      <td>IT</td>\n",
       "      <td>ITA</td>\n",
       "      <td>2</td>\n",
       "    </tr>\n",
       "  </tbody>\n",
       "</table>\n",
       "</div>"
      ],
      "text/plain": [
       "            key wikidata datacommons country_code country_name  \\\n",
       "12393  IT_25_BG   Q16137   iso/IT-BG           IT        Italy   \n",
       "\n",
       "      subregion1_code subregion1_name subregion2_code subregion2_name  \\\n",
       "12393              25        Lombardy              BG         Bergamo   \n",
       "\n",
       "      locality_code locality_name 3166-1-alpha-2 3166-1-alpha-3  \\\n",
       "12393           NaN           NaN             IT            ITA   \n",
       "\n",
       "       aggregation_level  \n",
       "12393                  2  "
      ]
     },
     "execution_count": 6,
     "metadata": {},
     "output_type": "execute_result"
    }
   ],
   "source": [
    "# index_df.query('country_code == \"IT\" & subregion1_name == \"Lombardy\"')\n",
    "index_df.query('subregion2_name == \"Bergamo\"')"
   ]
  },
  {
   "cell_type": "code",
   "execution_count": 7,
   "metadata": {},
   "outputs": [
    {
     "data": {
      "text/html": [
       "<div>\n",
       "<style scoped>\n",
       "    .dataframe tbody tr th:only-of-type {\n",
       "        vertical-align: middle;\n",
       "    }\n",
       "\n",
       "    .dataframe tbody tr th {\n",
       "        vertical-align: top;\n",
       "    }\n",
       "\n",
       "    .dataframe thead th {\n",
       "        text-align: right;\n",
       "    }\n",
       "</style>\n",
       "<table border=\"1\" class=\"dataframe\">\n",
       "  <thead>\n",
       "    <tr style=\"text-align: right;\">\n",
       "      <th></th>\n",
       "      <th>key</th>\n",
       "      <th>wikidata</th>\n",
       "      <th>datacommons</th>\n",
       "      <th>country_code</th>\n",
       "      <th>country_name</th>\n",
       "      <th>subregion1_code</th>\n",
       "      <th>subregion1_name</th>\n",
       "      <th>subregion2_code</th>\n",
       "      <th>subregion2_name</th>\n",
       "      <th>locality_code</th>\n",
       "      <th>locality_name</th>\n",
       "      <th>3166-1-alpha-2</th>\n",
       "      <th>3166-1-alpha-3</th>\n",
       "      <th>aggregation_level</th>\n",
       "    </tr>\n",
       "  </thead>\n",
       "  <tbody>\n",
       "    <tr>\n",
       "      <th>12392</th>\n",
       "      <td>IT_25</td>\n",
       "      <td>Q1210</td>\n",
       "      <td>nuts/ITC4</td>\n",
       "      <td>IT</td>\n",
       "      <td>Italy</td>\n",
       "      <td>25</td>\n",
       "      <td>Lombardy</td>\n",
       "      <td>NaN</td>\n",
       "      <td>NaN</td>\n",
       "      <td>NaN</td>\n",
       "      <td>NaN</td>\n",
       "      <td>IT</td>\n",
       "      <td>ITA</td>\n",
       "      <td>1</td>\n",
       "    </tr>\n",
       "  </tbody>\n",
       "</table>\n",
       "</div>"
      ],
      "text/plain": [
       "         key wikidata datacommons country_code country_name subregion1_code  \\\n",
       "12392  IT_25    Q1210   nuts/ITC4           IT        Italy              25   \n",
       "\n",
       "      subregion1_name subregion2_code subregion2_name locality_code  \\\n",
       "12392        Lombardy             NaN             NaN           NaN   \n",
       "\n",
       "      locality_name 3166-1-alpha-2 3166-1-alpha-3  aggregation_level  \n",
       "12392           NaN             IT            ITA                  1  "
      ]
     },
     "execution_count": 7,
     "metadata": {},
     "output_type": "execute_result"
    }
   ],
   "source": [
    "index_df.query('subregion1_name == \"Lombardy\" & aggregation_level == 1')"
   ]
  },
  {
   "cell_type": "markdown",
   "metadata": {},
   "source": [
    "## Age distribution"
   ]
  },
  {
   "cell_type": "code",
   "execution_count": 8,
   "metadata": {},
   "outputs": [
    {
     "data": {
      "text/html": [
       "<div>\n",
       "<style scoped>\n",
       "    .dataframe tbody tr th:only-of-type {\n",
       "        vertical-align: middle;\n",
       "    }\n",
       "\n",
       "    .dataframe tbody tr th {\n",
       "        vertical-align: top;\n",
       "    }\n",
       "\n",
       "    .dataframe thead th {\n",
       "        text-align: right;\n",
       "    }\n",
       "</style>\n",
       "<table border=\"1\" class=\"dataframe\">\n",
       "  <thead>\n",
       "    <tr style=\"text-align: right;\">\n",
       "      <th></th>\n",
       "      <th>key</th>\n",
       "      <th>population</th>\n",
       "      <th>population_male</th>\n",
       "      <th>population_female</th>\n",
       "      <th>rural_population</th>\n",
       "      <th>urban_population</th>\n",
       "      <th>largest_city_population</th>\n",
       "      <th>clustered_population</th>\n",
       "      <th>population_density</th>\n",
       "      <th>human_development_index</th>\n",
       "      <th>...</th>\n",
       "      <th>population_age_10_19</th>\n",
       "      <th>population_age_20_29</th>\n",
       "      <th>population_age_30_39</th>\n",
       "      <th>population_age_40_49</th>\n",
       "      <th>population_age_50_59</th>\n",
       "      <th>population_age_60_69</th>\n",
       "      <th>population_age_70_79</th>\n",
       "      <th>population_age_80_89</th>\n",
       "      <th>population_age_90_99</th>\n",
       "      <th>population_age_80_and_older</th>\n",
       "    </tr>\n",
       "  </thead>\n",
       "  <tbody>\n",
       "    <tr>\n",
       "      <th>10164</th>\n",
       "      <td>IT_25_BG</td>\n",
       "      <td>1109933.0</td>\n",
       "      <td>NaN</td>\n",
       "      <td>NaN</td>\n",
       "      <td>NaN</td>\n",
       "      <td>NaN</td>\n",
       "      <td>NaN</td>\n",
       "      <td>NaN</td>\n",
       "      <td>NaN</td>\n",
       "      <td>NaN</td>\n",
       "      <td>...</td>\n",
       "      <td>NaN</td>\n",
       "      <td>NaN</td>\n",
       "      <td>NaN</td>\n",
       "      <td>NaN</td>\n",
       "      <td>NaN</td>\n",
       "      <td>NaN</td>\n",
       "      <td>NaN</td>\n",
       "      <td>NaN</td>\n",
       "      <td>NaN</td>\n",
       "      <td>NaN</td>\n",
       "    </tr>\n",
       "  </tbody>\n",
       "</table>\n",
       "<p>1 rows × 21 columns</p>\n",
       "</div>"
      ],
      "text/plain": [
       "            key  population  population_male  population_female  \\\n",
       "10164  IT_25_BG   1109933.0              NaN                NaN   \n",
       "\n",
       "       rural_population  urban_population  largest_city_population  \\\n",
       "10164               NaN               NaN                      NaN   \n",
       "\n",
       "       clustered_population  population_density  human_development_index  ...  \\\n",
       "10164                   NaN                 NaN                      NaN  ...   \n",
       "\n",
       "       population_age_10_19  population_age_20_29  population_age_30_39  \\\n",
       "10164                   NaN                   NaN                   NaN   \n",
       "\n",
       "       population_age_40_49  population_age_50_59  population_age_60_69  \\\n",
       "10164                   NaN                   NaN                   NaN   \n",
       "\n",
       "       population_age_70_79  population_age_80_89  population_age_90_99  \\\n",
       "10164                   NaN                   NaN                   NaN   \n",
       "\n",
       "       population_age_80_and_older  \n",
       "10164                          NaN  \n",
       "\n",
       "[1 rows x 21 columns]"
      ]
     },
     "execution_count": 8,
     "metadata": {},
     "output_type": "execute_result"
    }
   ],
   "source": [
    "demog_df.query('key == \"IT_25_BG\"')"
   ]
  },
  {
   "cell_type": "code",
   "execution_count": 9,
   "metadata": {},
   "outputs": [
    {
     "data": {
      "text/html": [
       "<div>\n",
       "<style scoped>\n",
       "    .dataframe tbody tr th:only-of-type {\n",
       "        vertical-align: middle;\n",
       "    }\n",
       "\n",
       "    .dataframe tbody tr th {\n",
       "        vertical-align: top;\n",
       "    }\n",
       "\n",
       "    .dataframe thead th {\n",
       "        text-align: right;\n",
       "    }\n",
       "</style>\n",
       "<table border=\"1\" class=\"dataframe\">\n",
       "  <thead>\n",
       "    <tr style=\"text-align: right;\">\n",
       "      <th></th>\n",
       "      <th>key</th>\n",
       "      <th>population</th>\n",
       "      <th>population_male</th>\n",
       "      <th>population_female</th>\n",
       "      <th>rural_population</th>\n",
       "      <th>urban_population</th>\n",
       "      <th>largest_city_population</th>\n",
       "      <th>clustered_population</th>\n",
       "      <th>population_density</th>\n",
       "      <th>human_development_index</th>\n",
       "      <th>...</th>\n",
       "      <th>population_age_10_19</th>\n",
       "      <th>population_age_20_29</th>\n",
       "      <th>population_age_30_39</th>\n",
       "      <th>population_age_40_49</th>\n",
       "      <th>population_age_50_59</th>\n",
       "      <th>population_age_60_69</th>\n",
       "      <th>population_age_70_79</th>\n",
       "      <th>population_age_80_89</th>\n",
       "      <th>population_age_90_99</th>\n",
       "      <th>population_age_80_and_older</th>\n",
       "    </tr>\n",
       "  </thead>\n",
       "  <tbody>\n",
       "    <tr>\n",
       "      <th>10163</th>\n",
       "      <td>IT_25</td>\n",
       "      <td>10060574.0</td>\n",
       "      <td>4924451.0</td>\n",
       "      <td>5136123.0</td>\n",
       "      <td>NaN</td>\n",
       "      <td>NaN</td>\n",
       "      <td>NaN</td>\n",
       "      <td>NaN</td>\n",
       "      <td>436.0</td>\n",
       "      <td>NaN</td>\n",
       "      <td>...</td>\n",
       "      <td>961237.0</td>\n",
       "      <td>982354.0</td>\n",
       "      <td>1187594.0</td>\n",
       "      <td>1591034.0</td>\n",
       "      <td>1566175.0</td>\n",
       "      <td>1182159.0</td>\n",
       "      <td>994236.0</td>\n",
       "      <td>617140.0</td>\n",
       "      <td>154285.0</td>\n",
       "      <td>711371.0</td>\n",
       "    </tr>\n",
       "  </tbody>\n",
       "</table>\n",
       "<p>1 rows × 21 columns</p>\n",
       "</div>"
      ],
      "text/plain": [
       "         key  population  population_male  population_female  \\\n",
       "10163  IT_25  10060574.0        4924451.0          5136123.0   \n",
       "\n",
       "       rural_population  urban_population  largest_city_population  \\\n",
       "10163               NaN               NaN                      NaN   \n",
       "\n",
       "       clustered_population  population_density  human_development_index  ...  \\\n",
       "10163                   NaN               436.0                      NaN  ...   \n",
       "\n",
       "       population_age_10_19  population_age_20_29  population_age_30_39  \\\n",
       "10163              961237.0              982354.0             1187594.0   \n",
       "\n",
       "       population_age_40_49  population_age_50_59  population_age_60_69  \\\n",
       "10163             1591034.0             1566175.0             1182159.0   \n",
       "\n",
       "       population_age_70_79  population_age_80_89  population_age_90_99  \\\n",
       "10163              994236.0              617140.0              154285.0   \n",
       "\n",
       "       population_age_80_and_older  \n",
       "10163                     711371.0  \n",
       "\n",
       "[1 rows x 21 columns]"
      ]
     },
     "execution_count": 9,
     "metadata": {},
     "output_type": "execute_result"
    }
   ],
   "source": [
    "lombardy_demog_df = demog_df.query('key == \"IT_25\"')\n",
    "lombardy_demog_df"
   ]
  },
  {
   "cell_type": "code",
   "execution_count": 10,
   "metadata": {},
   "outputs": [
    {
     "data": {
      "text/html": [
       "<div>\n",
       "<style scoped>\n",
       "    .dataframe tbody tr th:only-of-type {\n",
       "        vertical-align: middle;\n",
       "    }\n",
       "\n",
       "    .dataframe tbody tr th {\n",
       "        vertical-align: top;\n",
       "    }\n",
       "\n",
       "    .dataframe thead th {\n",
       "        text-align: right;\n",
       "    }\n",
       "</style>\n",
       "<table border=\"1\" class=\"dataframe\">\n",
       "  <thead>\n",
       "    <tr style=\"text-align: right;\">\n",
       "      <th></th>\n",
       "      <th>population_age_00_09</th>\n",
       "      <th>population_age_10_19</th>\n",
       "      <th>population_age_20_29</th>\n",
       "      <th>population_age_30_39</th>\n",
       "      <th>population_age_40_49</th>\n",
       "      <th>population_age_50_59</th>\n",
       "      <th>population_age_60_69</th>\n",
       "      <th>population_age_70_79</th>\n",
       "      <th>population_age_80_89</th>\n",
       "      <th>population_age_90_99</th>\n",
       "      <th>population_age_80_and_older</th>\n",
       "    </tr>\n",
       "  </thead>\n",
       "  <tbody>\n",
       "    <tr>\n",
       "      <th>10163</th>\n",
       "      <td>884414.0</td>\n",
       "      <td>961237.0</td>\n",
       "      <td>982354.0</td>\n",
       "      <td>1187594.0</td>\n",
       "      <td>1591034.0</td>\n",
       "      <td>1566175.0</td>\n",
       "      <td>1182159.0</td>\n",
       "      <td>994236.0</td>\n",
       "      <td>617140.0</td>\n",
       "      <td>154285.0</td>\n",
       "      <td>711371.0</td>\n",
       "    </tr>\n",
       "  </tbody>\n",
       "</table>\n",
       "</div>"
      ],
      "text/plain": [
       "       population_age_00_09  population_age_10_19  population_age_20_29  \\\n",
       "10163              884414.0              961237.0              982354.0   \n",
       "\n",
       "       population_age_30_39  population_age_40_49  population_age_50_59  \\\n",
       "10163             1187594.0             1591034.0             1566175.0   \n",
       "\n",
       "       population_age_60_69  population_age_70_79  population_age_80_89  \\\n",
       "10163             1182159.0              994236.0              617140.0   \n",
       "\n",
       "       population_age_90_99  population_age_80_and_older  \n",
       "10163              154285.0                     711371.0  "
      ]
     },
     "execution_count": 10,
     "metadata": {},
     "output_type": "execute_result"
    }
   ],
   "source": [
    "population_cols = demog_df.columns.where(demog_df.columns.str.startswith('population_age')).dropna()\n",
    "lombardy_demog_df[population_cols]"
   ]
  },
  {
   "cell_type": "code",
   "execution_count": 35,
   "metadata": {},
   "outputs": [
    {
     "data": {
      "text/plain": [
       "((0, 9), (80, None))"
      ]
     },
     "execution_count": 35,
     "metadata": {},
     "output_type": "execute_result"
    }
   ],
   "source": [
    "def bounds_from_col_name(col_name):\n",
    "    groups = re.match(r'population_age_(\\d{2})_(\\d{2})?', col_name).groups()\n",
    "    lo, up = (int(groups[0]), None) if groups[1] is None else (int(groups[0]), int(groups[1]))\n",
    "    return lo, up\n",
    "bounds_from_col_name('population_age_00_09'), bounds_from_col_name('population_age_80_and_older')"
   ]
  },
  {
   "cell_type": "code",
   "execution_count": 87,
   "metadata": {},
   "outputs": [
    {
     "data": {
      "text/html": [
       "<div>\n",
       "<style scoped>\n",
       "    .dataframe tbody tr th:only-of-type {\n",
       "        vertical-align: middle;\n",
       "    }\n",
       "\n",
       "    .dataframe tbody tr th {\n",
       "        vertical-align: top;\n",
       "    }\n",
       "\n",
       "    .dataframe thead th {\n",
       "        text-align: right;\n",
       "    }\n",
       "</style>\n",
       "<table border=\"1\" class=\"dataframe\">\n",
       "  <thead>\n",
       "    <tr style=\"text-align: right;\">\n",
       "      <th></th>\n",
       "      <th>count</th>\n",
       "    </tr>\n",
       "    <tr>\n",
       "      <th>age</th>\n",
       "      <th></th>\n",
       "    </tr>\n",
       "  </thead>\n",
       "  <tbody>\n",
       "    <tr>\n",
       "      <th>(0, 9)</th>\n",
       "      <td>884414</td>\n",
       "    </tr>\n",
       "    <tr>\n",
       "      <th>(10, 19)</th>\n",
       "      <td>961237</td>\n",
       "    </tr>\n",
       "    <tr>\n",
       "      <th>(20, 29)</th>\n",
       "      <td>982354</td>\n",
       "    </tr>\n",
       "    <tr>\n",
       "      <th>(30, 39)</th>\n",
       "      <td>1187594</td>\n",
       "    </tr>\n",
       "    <tr>\n",
       "      <th>(40, 49)</th>\n",
       "      <td>1591034</td>\n",
       "    </tr>\n",
       "    <tr>\n",
       "      <th>(50, 59)</th>\n",
       "      <td>1566175</td>\n",
       "    </tr>\n",
       "    <tr>\n",
       "      <th>(60, 69)</th>\n",
       "      <td>1182159</td>\n",
       "    </tr>\n",
       "    <tr>\n",
       "      <th>(70, 79)</th>\n",
       "      <td>994236</td>\n",
       "    </tr>\n",
       "    <tr>\n",
       "      <th>(80, None)</th>\n",
       "      <td>711371</td>\n",
       "    </tr>\n",
       "  </tbody>\n",
       "</table>\n",
       "</div>"
      ],
      "text/plain": [
       "              count\n",
       "age                \n",
       "(0, 9)       884414\n",
       "(10, 19)     961237\n",
       "(20, 29)     982354\n",
       "(30, 39)    1187594\n",
       "(40, 49)    1591034\n",
       "(50, 59)    1566175\n",
       "(60, 69)    1182159\n",
       "(70, 79)     994236\n",
       "(80, None)   711371"
      ]
     },
     "execution_count": 87,
     "metadata": {},
     "output_type": "execute_result"
    }
   ],
   "source": [
    "lombardy_demog = lombardy_demog_df[population_cols].to_dict(orient='list')\n",
    "lombardy_demog = [(bounds_from_col_name(k), int(v[0])) for k, v in lombardy_demog.items()]\n",
    "lombardy_demog = [((k[0], k[1]), v) for k, v in lombardy_demog]\n",
    "lombardy_demog\n",
    "lombardy_demog_dist_df = pd.DataFrame(data=lombardy_demog, columns=['age', 'count'], dtype=pd.Int64Dtype)\n",
    "lombardy_demog_dist_df = lombardy_demog_dist_df[(lombardy_demog_dist_df['age'] != (80, 89)) & (lombardy_demog_dist_df['age'] != (90, 99))]\n",
    "lombardy_demog_dist_df = lombardy_demog_dist_df.set_index('age')\n",
    "lombardy_demog_dist_df"
   ]
  },
  {
   "cell_type": "code",
   "execution_count": 88,
   "metadata": {},
   "outputs": [
    {
     "data": {
      "image/png": "[encoded data removed]",
      "text/plain": [
       "<Figure size 1008x720 with 1 Axes>"
      ]
     },
     "metadata": {
      "needs_background": "light"
     },
     "output_type": "display_data"
    }
   ],
   "source": [
    "_ = lombardy_demog_dist_df.plot.barh()"
   ]
  },
  {
   "cell_type": "code",
   "execution_count": 89,
   "metadata": {},
   "outputs": [
    {
     "data": {
      "text/plain": [
       "10060574"
      ]
     },
     "execution_count": 89,
     "metadata": {},
     "output_type": "execute_result"
    }
   ],
   "source": [
    "lombardy_population = lombardy_demog_dist_df['count'].sum()\n",
    "lombardy_population # 10060574\t"
   ]
  },
  {
   "cell_type": "code",
   "execution_count": 90,
   "metadata": {},
   "outputs": [
    {
     "data": {
      "text/html": [
       "<div>\n",
       "<style scoped>\n",
       "    .dataframe tbody tr th:only-of-type {\n",
       "        vertical-align: middle;\n",
       "    }\n",
       "\n",
       "    .dataframe tbody tr th {\n",
       "        vertical-align: top;\n",
       "    }\n",
       "\n",
       "    .dataframe thead th {\n",
       "        text-align: right;\n",
       "    }\n",
       "</style>\n",
       "<table border=\"1\" class=\"dataframe\">\n",
       "  <thead>\n",
       "    <tr style=\"text-align: right;\">\n",
       "      <th></th>\n",
       "      <th>count</th>\n",
       "      <th>p</th>\n",
       "    </tr>\n",
       "    <tr>\n",
       "      <th>age</th>\n",
       "      <th></th>\n",
       "      <th></th>\n",
       "    </tr>\n",
       "  </thead>\n",
       "  <tbody>\n",
       "    <tr>\n",
       "      <th>(0, 9)</th>\n",
       "      <td>884414</td>\n",
       "      <td>0.0879089</td>\n",
       "    </tr>\n",
       "    <tr>\n",
       "      <th>(10, 19)</th>\n",
       "      <td>961237</td>\n",
       "      <td>0.0955449</td>\n",
       "    </tr>\n",
       "    <tr>\n",
       "      <th>(20, 29)</th>\n",
       "      <td>982354</td>\n",
       "      <td>0.0976439</td>\n",
       "    </tr>\n",
       "    <tr>\n",
       "      <th>(30, 39)</th>\n",
       "      <td>1187594</td>\n",
       "      <td>0.118044</td>\n",
       "    </tr>\n",
       "    <tr>\n",
       "      <th>(40, 49)</th>\n",
       "      <td>1591034</td>\n",
       "      <td>0.158145</td>\n",
       "    </tr>\n",
       "    <tr>\n",
       "      <th>(50, 59)</th>\n",
       "      <td>1566175</td>\n",
       "      <td>0.155675</td>\n",
       "    </tr>\n",
       "    <tr>\n",
       "      <th>(60, 69)</th>\n",
       "      <td>1182159</td>\n",
       "      <td>0.117504</td>\n",
       "    </tr>\n",
       "    <tr>\n",
       "      <th>(70, 79)</th>\n",
       "      <td>994236</td>\n",
       "      <td>0.098825</td>\n",
       "    </tr>\n",
       "    <tr>\n",
       "      <th>(80, None)</th>\n",
       "      <td>711371</td>\n",
       "      <td>0.0707088</td>\n",
       "    </tr>\n",
       "  </tbody>\n",
       "</table>\n",
       "</div>"
      ],
      "text/plain": [
       "              count          p\n",
       "age                           \n",
       "(0, 9)       884414  0.0879089\n",
       "(10, 19)     961237  0.0955449\n",
       "(20, 29)     982354  0.0976439\n",
       "(30, 39)    1187594   0.118044\n",
       "(40, 49)    1591034   0.158145\n",
       "(50, 59)    1566175   0.155675\n",
       "(60, 69)    1182159   0.117504\n",
       "(70, 79)     994236   0.098825\n",
       "(80, None)   711371  0.0707088"
      ]
     },
     "execution_count": 90,
     "metadata": {},
     "output_type": "execute_result"
    }
   ],
   "source": [
    "lombardy_demog_dist_df['p'] = lombardy_demog_dist_df['count'] / lombardy_population\n",
    "lombardy_demog_dist_df"
   ]
  },
  {
   "cell_type": "code",
   "execution_count": 138,
   "metadata": {},
   "outputs": [
    {
     "data": {
      "text/plain": [
       "([0.08790890062535199,\n",
       "  0.09554494604383408,\n",
       "  0.09764393164843278,\n",
       "  0.11804435810521348,\n",
       "  0.1581454497526682,\n",
       "  0.15567451717963607,\n",
       "  0.11750413048003026,\n",
       "  0.09882497758080205,\n",
       "  0.0707087885840311],\n",
       " 9)"
      ]
     },
     "execution_count": 138,
     "metadata": {},
     "output_type": "execute_result"
    }
   ],
   "source": [
    "probabilities = list(lombardy_demog_dist_df['p'].values)\n",
    "probabilities, len(probabilities)"
   ]
  },
  {
   "cell_type": "code",
   "execution_count": 225,
   "metadata": {},
   "outputs": [],
   "source": [
    "def get_random_ages(n):\n",
    "    probabilities = [\n",
    "        0.08790890062535199,\n",
    "        0.09554494604383408,\n",
    "        0.09764393164843278,\n",
    "        0.11804435810521348,\n",
    "        0.1581454497526682,\n",
    "        0.15567451717963607,\n",
    "        0.11750413048003026,\n",
    "        0.09882497758080205,\n",
    "        0.0707087885840311\n",
    "    ]\n",
    "    lower = ra.choices(range(9), weights=probabilities, k=n)\n",
    "    lower = [l * 10 for l in lower]\n",
    "    upper = [l + (9 if l != 80 else 19) for l in lower]\n",
    "    lu = zip(lower, upper)\n",
    "    return [ra.randint(l, u) for l, u in lu]"
   ]
  },
  {
   "cell_type": "code",
   "execution_count": 253,
   "metadata": {},
   "outputs": [],
   "source": [
    "def get_random_ages(n):\n",
    "    probabilities = [\n",
    "        0.08790890062535199,\n",
    "        0.09554494604383408,\n",
    "        0.09764393164843278,\n",
    "        0.11804435810521348,\n",
    "        0.1581454497526682,\n",
    "        0.15567451717963607,\n",
    "        0.11750413048003026,\n",
    "        0.09882497758080205,\n",
    "        0.0707087885840311\n",
    "    ]\n",
    "    \n",
    "    ages = [a for i, p in enumerate(probabilities) for a in list(range(i * 10, i * 10 + 10))]\n",
    "    weights = [p for i, p in enumerate(probabilities) for a in list(range(i * 10, i * 10 + 10))]\n",
    "    \n",
    "    return ra.choices(population=ages, weights=weights, k=n)\n",
    "    \n",
    "#     lower = ra.choices(range(9), weights=probabilities, k=n)\n",
    "#     lower = [l * 10 for l in lower]\n",
    "#     upper = [l + (9 if l != 80 else 19) for l in lower]\n",
    "#     lu = zip(lower, upper)\n",
    "#     return [ra.randint(l, u) for l, u in lu]"
   ]
  },
  {
   "cell_type": "code",
   "execution_count": 256,
   "metadata": {},
   "outputs": [
    {
     "name": "stdout",
     "output_type": "stream",
     "text": [
      "Wall time: 4.96 s\n"
     ]
    }
   ],
   "source": [
    "%%time\n",
    "ages = get_random_ages(int(10e6))"
   ]
  },
  {
   "cell_type": "code",
   "execution_count": 260,
   "metadata": {},
   "outputs": [
    {
     "data": {
      "text/html": [
       "<div>\n",
       "<style scoped>\n",
       "    .dataframe tbody tr th:only-of-type {\n",
       "        vertical-align: middle;\n",
       "    }\n",
       "\n",
       "    .dataframe tbody tr th {\n",
       "        vertical-align: top;\n",
       "    }\n",
       "\n",
       "    .dataframe thead th {\n",
       "        text-align: right;\n",
       "    }\n",
       "</style>\n",
       "<table border=\"1\" class=\"dataframe\">\n",
       "  <thead>\n",
       "    <tr style=\"text-align: right;\">\n",
       "      <th></th>\n",
       "      <th>age</th>\n",
       "    </tr>\n",
       "  </thead>\n",
       "  <tbody>\n",
       "    <tr>\n",
       "      <th>0</th>\n",
       "      <td>6</td>\n",
       "    </tr>\n",
       "    <tr>\n",
       "      <th>1</th>\n",
       "      <td>25</td>\n",
       "    </tr>\n",
       "    <tr>\n",
       "      <th>2</th>\n",
       "      <td>63</td>\n",
       "    </tr>\n",
       "    <tr>\n",
       "      <th>3</th>\n",
       "      <td>40</td>\n",
       "    </tr>\n",
       "    <tr>\n",
       "      <th>4</th>\n",
       "      <td>50</td>\n",
       "    </tr>\n",
       "    <tr>\n",
       "      <th>...</th>\n",
       "      <td>...</td>\n",
       "    </tr>\n",
       "    <tr>\n",
       "      <th>9999995</th>\n",
       "      <td>87</td>\n",
       "    </tr>\n",
       "    <tr>\n",
       "      <th>9999996</th>\n",
       "      <td>58</td>\n",
       "    </tr>\n",
       "    <tr>\n",
       "      <th>9999997</th>\n",
       "      <td>9</td>\n",
       "    </tr>\n",
       "    <tr>\n",
       "      <th>9999998</th>\n",
       "      <td>48</td>\n",
       "    </tr>\n",
       "    <tr>\n",
       "      <th>9999999</th>\n",
       "      <td>34</td>\n",
       "    </tr>\n",
       "  </tbody>\n",
       "</table>\n",
       "<p>10000000 rows × 1 columns</p>\n",
       "</div>"
      ],
      "text/plain": [
       "         age\n",
       "0          6\n",
       "1         25\n",
       "2         63\n",
       "3         40\n",
       "4         50\n",
       "...      ...\n",
       "9999995   87\n",
       "9999996   58\n",
       "9999997    9\n",
       "9999998   48\n",
       "9999999   34\n",
       "\n",
       "[10000000 rows x 1 columns]"
      ]
     },
     "execution_count": 260,
     "metadata": {},
     "output_type": "execute_result"
    }
   ],
   "source": [
    "ages_df = pd.DataFrame(data=ages, columns=['age'])\n",
    "ages_df"
   ]
  },
  {
   "cell_type": "code",
   "execution_count": 282,
   "metadata": {},
   "outputs": [
    {
     "data": {
      "text/plain": [
       "<AxesSubplot:ylabel='age'>"
      ]
     },
     "execution_count": 282,
     "metadata": {},
     "output_type": "execute_result"
    },
    {
     "data": {
      "image/png": "[encoded data removed]",
      "text/plain": [
       "<Figure size 1008x720 with 1 Axes>"
      ]
     },
     "metadata": {
      "needs_background": "light"
     },
     "output_type": "display_data"
    }
   ],
   "source": [
    "agg_ages_df = ages_df.groupby('age').size().reset_index()\n",
    "agg_ages_df.columns = ['age', 'count']\n",
    "agg_ages_df.plot.barh(x='age', y='count')"
   ]
  }
 ],
 "metadata": {
  "kernelspec": {
   "display_name": "Python 3",
   "language": "python",
   "name": "python3"
  },
  "language_info": {
   "codemirror_mode": {
    "name": "ipython",
    "version": 3
   },
   "file_extension": ".py",
   "mimetype": "text/x-python",
   "name": "python",
   "nbconvert_exporter": "python",
   "pygments_lexer": "ipython3",
   "version": "3.7.9"
  }
 },
 "nbformat": 4,
 "nbformat_minor": 4
}
